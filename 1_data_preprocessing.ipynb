{
 "cells": [
  {
   "cell_type": "markdown",
   "id": "b06cf489",
   "metadata": {},
   "source": [
    "# NLP analysis of movie plots: preprocessing data"
   ]
  },
  {
   "cell_type": "markdown",
   "id": "0fc42f4b",
   "metadata": {},
   "source": [
    "## Importing libraries"
   ]
  },
  {
   "cell_type": "code",
   "execution_count": 21,
   "id": "5f082c1e",
   "metadata": {},
   "outputs": [],
   "source": [
    "import pandas as pd\n",
    "from sklearn.model_selection import train_test_split "
   ]
  },
  {
   "cell_type": "markdown",
   "id": "3f19473b",
   "metadata": {},
   "source": [
    "## Loading data"
   ]
  },
  {
   "cell_type": "markdown",
   "id": "85e88edb",
   "metadata": {},
   "source": [
    "Next step in our analysis is preprocessing data. Let's load scraped data from csv file"
   ]
  },
  {
   "cell_type": "code",
   "execution_count": 35,
   "id": "13a7a785",
   "metadata": {
    "scrolled": false
   },
   "outputs": [
    {
     "data": {
      "text/html": [
       "<div>\n",
       "<style scoped>\n",
       "    .dataframe tbody tr th:only-of-type {\n",
       "        vertical-align: middle;\n",
       "    }\n",
       "\n",
       "    .dataframe tbody tr th {\n",
       "        vertical-align: top;\n",
       "    }\n",
       "\n",
       "    .dataframe thead th {\n",
       "        text-align: right;\n",
       "    }\n",
       "</style>\n",
       "<table border=\"1\" class=\"dataframe\">\n",
       "  <thead>\n",
       "    <tr style=\"text-align: right;\">\n",
       "      <th></th>\n",
       "      <th>averageRating</th>\n",
       "      <th>numVotes</th>\n",
       "      <th>primaryTitle</th>\n",
       "      <th>plot</th>\n",
       "      <th>rating</th>\n",
       "    </tr>\n",
       "    <tr>\n",
       "      <th>tconst</th>\n",
       "      <th></th>\n",
       "      <th></th>\n",
       "      <th></th>\n",
       "      <th></th>\n",
       "      <th></th>\n",
       "    </tr>\n",
       "  </thead>\n",
       "  <tbody>\n",
       "    <tr>\n",
       "      <th>tt0010323</th>\n",
       "      <td>8.0</td>\n",
       "      <td>64516</td>\n",
       "      <td>The Cabinet of Dr. Caligari</td>\n",
       "      <td>In what appears to be a park, Francis sits on ...</td>\n",
       "      <td>1</td>\n",
       "    </tr>\n",
       "    <tr>\n",
       "      <th>tt0012349</th>\n",
       "      <td>8.3</td>\n",
       "      <td>126789</td>\n",
       "      <td>The Kid</td>\n",
       "      <td>NaN</td>\n",
       "      <td>1</td>\n",
       "    </tr>\n",
       "    <tr>\n",
       "      <th>tt0013442</th>\n",
       "      <td>7.9</td>\n",
       "      <td>98252</td>\n",
       "      <td>Nosferatu</td>\n",
       "      <td>In 1838, in the fictional German town of Wisbo...</td>\n",
       "      <td>1</td>\n",
       "    </tr>\n",
       "    <tr>\n",
       "      <th>tt0015324</th>\n",
       "      <td>8.2</td>\n",
       "      <td>50390</td>\n",
       "      <td>Sherlock Jr.</td>\n",
       "      <td>Buster is a movie theater projectionist and ja...</td>\n",
       "      <td>1</td>\n",
       "    </tr>\n",
       "    <tr>\n",
       "      <th>tt0015648</th>\n",
       "      <td>7.9</td>\n",
       "      <td>58131</td>\n",
       "      <td>Battleship Potemkin</td>\n",
       "      <td>The film is set in June 1905; the protagonists...</td>\n",
       "      <td>1</td>\n",
       "    </tr>\n",
       "  </tbody>\n",
       "</table>\n",
       "</div>"
      ],
      "text/plain": [
       "           averageRating  numVotes                 primaryTitle  \\\n",
       "tconst                                                            \n",
       "tt0010323            8.0     64516  The Cabinet of Dr. Caligari   \n",
       "tt0012349            8.3    126789                      The Kid   \n",
       "tt0013442            7.9     98252                    Nosferatu   \n",
       "tt0015324            8.2     50390                 Sherlock Jr.   \n",
       "tt0015648            7.9     58131          Battleship Potemkin   \n",
       "\n",
       "                                                        plot  rating  \n",
       "tconst                                                                \n",
       "tt0010323  In what appears to be a park, Francis sits on ...       1  \n",
       "tt0012349                                                NaN       1  \n",
       "tt0013442  In 1838, in the fictional German town of Wisbo...       1  \n",
       "tt0015324  Buster is a movie theater projectionist and ja...       1  \n",
       "tt0015648  The film is set in June 1905; the protagonists...       1  "
      ]
     },
     "execution_count": 35,
     "metadata": {},
     "output_type": "execute_result"
    }
   ],
   "source": [
    "data = pd.read_csv('data/data.csv', index_col = 'tconst').iloc[:,1:]\n",
    "data.head()"
   ]
  },
  {
   "cell_type": "markdown",
   "id": "321489e0",
   "metadata": {},
   "source": [
    "First of all, we delete the rows where plot was not scraped"
   ]
  },
  {
   "cell_type": "code",
   "execution_count": 36,
   "id": "aabbdf45",
   "metadata": {},
   "outputs": [
    {
     "data": {
      "text/plain": [
       "(1854, 5)"
      ]
     },
     "execution_count": 36,
     "metadata": {},
     "output_type": "execute_result"
    }
   ],
   "source": [
    "data = data[~data['plot'].isna()]\n",
    "data.shape"
   ]
  },
  {
   "cell_type": "markdown",
   "id": "c77b0e93",
   "metadata": {},
   "source": [
    "Sadly, we didn't find plot description of half of the movies. We end up with high dimensional low sample size data so we need to run some dimensionality reduction techniques in order to run classical models."
   ]
  },
  {
   "cell_type": "code",
   "execution_count": 37,
   "id": "7743964b",
   "metadata": {},
   "outputs": [
    {
     "data": {
      "text/plain": [
       "0    979\n",
       "1    875\n",
       "Name: rating, dtype: int64"
      ]
     },
     "execution_count": 37,
     "metadata": {},
     "output_type": "execute_result"
    }
   ],
   "source": [
    "data['rating'].value_counts()"
   ]
  },
  {
   "cell_type": "markdown",
   "id": "77a2ccbf",
   "metadata": {},
   "source": [
    "Good news - our data is balanced, we have the same amount for highly and low rated movies."
   ]
  },
  {
   "cell_type": "markdown",
   "id": "61b1384d",
   "metadata": {},
   "source": [
    "## Splitting data into train and test samples"
   ]
  },
  {
   "cell_type": "markdown",
   "id": "03aa6af3",
   "metadata": {},
   "source": [
    "Before starting the preprocessing steps we need to split data into training and testing samples. It would help us to evaluate the performance of the model."
   ]
  },
  {
   "cell_type": "code",
   "execution_count": 47,
   "id": "47b65f90",
   "metadata": {
    "scrolled": false
   },
   "outputs": [
    {
     "name": "stdout",
     "output_type": "stream",
     "text": [
      "Train sample size: 1390\n",
      "Test sample size: 464\n"
     ]
    }
   ],
   "source": [
    "X = data['plot']\n",
    "y = data['rating']\n",
    "\n",
    "X_train, X_test, y_train, y_test = train_test_split(X, y, random_state = 1234, shuffle = True)\n",
    "\n",
    "print('Train sample size: '+str(len(y_train)))\n",
    "print('Test sample size: '+str(len(y_test)))"
   ]
  },
  {
   "cell_type": "markdown",
   "id": "a2eb184a",
   "metadata": {},
   "source": [
    "## Building pipeline for data cleaning and preprocessing"
   ]
  },
  {
   "cell_type": "code",
   "execution_count": null,
   "id": "216725ff",
   "metadata": {},
   "outputs": [],
   "source": []
  }
 ],
 "metadata": {
  "kernelspec": {
   "display_name": "Python 3 (ipykernel)",
   "language": "python",
   "name": "python3"
  },
  "language_info": {
   "codemirror_mode": {
    "name": "ipython",
    "version": 3
   },
   "file_extension": ".py",
   "mimetype": "text/x-python",
   "name": "python",
   "nbconvert_exporter": "python",
   "pygments_lexer": "ipython3",
   "version": "3.8.5"
  }
 },
 "nbformat": 4,
 "nbformat_minor": 5
}
