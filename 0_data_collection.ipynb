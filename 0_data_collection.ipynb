{
 "cells": [
  {
   "cell_type": "markdown",
   "id": "1cb728a2",
   "metadata": {
    "id": "2238d301"
   },
   "source": [
    "# NLP analysis of movie plots: scraping wikipedia"
   ]
  },
  {
   "cell_type": "markdown",
   "id": "2ba6b0f0",
   "metadata": {
    "id": "c0ee83e3"
   },
   "source": [
    "This is a pet project to explore web scraping and natural language processing (NLP) techniques. The main research question is to find some patterns in the plot description of highly and low rated movies. We assume that some elements of the movie plot can be attractive to the audience while others are not."
   ]
  },
  {
   "cell_type": "code",
   "execution_count": 1,
   "id": "12a2b6d3",
   "metadata": {
    "id": "2b787397"
   },
   "outputs": [],
   "source": [
    "#import essentional libraries\n",
    "import pandas as pd\n",
    "from tqdm import tqdm\n",
    "import warnings\n",
    "warnings.filterwarnings(\"ignore\")"
   ]
  },
  {
   "cell_type": "markdown",
   "id": "9a2fa88d",
   "metadata": {
    "id": "f7da6020"
   },
   "source": [
    "We use ratings from IMBD website: https://datasets.imdbws.com/. IMBD post data on movies and their average ratings given by the its website users. The data on the website is daily uploaded so we state that tha tables were downloaded on December 29, 2022."
   ]
  },
  {
   "cell_type": "markdown",
   "id": "dbb426f9",
   "metadata": {
    "id": "f7da6020"
   },
   "source": [
    "First table contains some general information on the movies and series like the title, genres and year of release."
   ]
  },
  {
   "cell_type": "code",
   "execution_count": 2,
   "id": "81fd87f6",
   "metadata": {
    "id": "a4cda81f"
   },
   "outputs": [
    {
     "data": {
      "text/html": [
       "<div>\n",
       "<style scoped>\n",
       "    .dataframe tbody tr th:only-of-type {\n",
       "        vertical-align: middle;\n",
       "    }\n",
       "\n",
       "    .dataframe tbody tr th {\n",
       "        vertical-align: top;\n",
       "    }\n",
       "\n",
       "    .dataframe thead th {\n",
       "        text-align: right;\n",
       "    }\n",
       "</style>\n",
       "<table border=\"1\" class=\"dataframe\">\n",
       "  <thead>\n",
       "    <tr style=\"text-align: right;\">\n",
       "      <th></th>\n",
       "      <th>tconst</th>\n",
       "      <th>titleType</th>\n",
       "      <th>primaryTitle</th>\n",
       "      <th>originalTitle</th>\n",
       "      <th>isAdult</th>\n",
       "      <th>startYear</th>\n",
       "      <th>endYear</th>\n",
       "      <th>runtimeMinutes</th>\n",
       "      <th>genres</th>\n",
       "    </tr>\n",
       "  </thead>\n",
       "  <tbody>\n",
       "    <tr>\n",
       "      <th>0</th>\n",
       "      <td>tt0000001</td>\n",
       "      <td>short</td>\n",
       "      <td>Carmencita</td>\n",
       "      <td>Carmencita</td>\n",
       "      <td>0</td>\n",
       "      <td>1894</td>\n",
       "      <td>\\N</td>\n",
       "      <td>1</td>\n",
       "      <td>Documentary,Short</td>\n",
       "    </tr>\n",
       "    <tr>\n",
       "      <th>1</th>\n",
       "      <td>tt0000002</td>\n",
       "      <td>short</td>\n",
       "      <td>Le clown et ses chiens</td>\n",
       "      <td>Le clown et ses chiens</td>\n",
       "      <td>0</td>\n",
       "      <td>1892</td>\n",
       "      <td>\\N</td>\n",
       "      <td>5</td>\n",
       "      <td>Animation,Short</td>\n",
       "    </tr>\n",
       "    <tr>\n",
       "      <th>2</th>\n",
       "      <td>tt0000003</td>\n",
       "      <td>short</td>\n",
       "      <td>Pauvre Pierrot</td>\n",
       "      <td>Pauvre Pierrot</td>\n",
       "      <td>0</td>\n",
       "      <td>1892</td>\n",
       "      <td>\\N</td>\n",
       "      <td>4</td>\n",
       "      <td>Animation,Comedy,Romance</td>\n",
       "    </tr>\n",
       "    <tr>\n",
       "      <th>3</th>\n",
       "      <td>tt0000004</td>\n",
       "      <td>short</td>\n",
       "      <td>Un bon bock</td>\n",
       "      <td>Un bon bock</td>\n",
       "      <td>0</td>\n",
       "      <td>1892</td>\n",
       "      <td>\\N</td>\n",
       "      <td>12</td>\n",
       "      <td>Animation,Short</td>\n",
       "    </tr>\n",
       "    <tr>\n",
       "      <th>4</th>\n",
       "      <td>tt0000005</td>\n",
       "      <td>short</td>\n",
       "      <td>Blacksmith Scene</td>\n",
       "      <td>Blacksmith Scene</td>\n",
       "      <td>0</td>\n",
       "      <td>1893</td>\n",
       "      <td>\\N</td>\n",
       "      <td>1</td>\n",
       "      <td>Comedy,Short</td>\n",
       "    </tr>\n",
       "  </tbody>\n",
       "</table>\n",
       "</div>"
      ],
      "text/plain": [
       "      tconst titleType            primaryTitle           originalTitle  \\\n",
       "0  tt0000001     short              Carmencita              Carmencita   \n",
       "1  tt0000002     short  Le clown et ses chiens  Le clown et ses chiens   \n",
       "2  tt0000003     short          Pauvre Pierrot          Pauvre Pierrot   \n",
       "3  tt0000004     short             Un bon bock             Un bon bock   \n",
       "4  tt0000005     short        Blacksmith Scene        Blacksmith Scene   \n",
       "\n",
       "  isAdult startYear endYear runtimeMinutes                    genres  \n",
       "0       0      1894      \\N              1         Documentary,Short  \n",
       "1       0      1892      \\N              5           Animation,Short  \n",
       "2       0      1892      \\N              4  Animation,Comedy,Romance  \n",
       "3       0      1892      \\N             12           Animation,Short  \n",
       "4       0      1893      \\N              1              Comedy,Short  "
      ]
     },
     "execution_count": 2,
     "metadata": {},
     "output_type": "execute_result"
    }
   ],
   "source": [
    "names=pd.read_csv('data/title.basics.tsv.gz', compression='gzip', header=0, sep=\"\\t\")\n",
    "names.head()"
   ]
  },
  {
   "cell_type": "markdown",
   "id": "af5db2fa",
   "metadata": {
    "id": "63bac4f1"
   },
   "source": [
    "We filter only movies (removing series) in order to shrink our data and avoid complications with loading plot from wikipedia"
   ]
  },
  {
   "cell_type": "code",
   "execution_count": 3,
   "id": "40373d06",
   "metadata": {
    "id": "7eea78c7",
    "scrolled": true
   },
   "outputs": [
    {
     "name": "stdout",
     "output_type": "stream",
     "text": [
      "<class 'pandas.core.frame.DataFrame'>\n",
      "Int64Index: 630466 entries, 8 to 9470970\n",
      "Data columns (total 9 columns):\n",
      " #   Column          Non-Null Count   Dtype \n",
      "---  ------          --------------   ----- \n",
      " 0   tconst          630466 non-null  object\n",
      " 1   titleType       630466 non-null  object\n",
      " 2   primaryTitle    630466 non-null  object\n",
      " 3   originalTitle   630466 non-null  object\n",
      " 4   isAdult         630466 non-null  object\n",
      " 5   startYear       630466 non-null  object\n",
      " 6   endYear         630466 non-null  object\n",
      " 7   runtimeMinutes  630466 non-null  object\n",
      " 8   genres          630466 non-null  object\n",
      "dtypes: object(9)\n",
      "memory usage: 48.1+ MB\n"
     ]
    }
   ],
   "source": [
    "names_movies=names[names['titleType']=='movie']\n",
    "names_movies.info()"
   ]
  },
  {
   "cell_type": "markdown",
   "id": "17d0a5bb",
   "metadata": {
    "id": "35b30993"
   },
   "source": [
    "Only 2 columns are necessary for scraping from wikipedia - unique number of film on imbd, its title and year of release. The later column is used to differentiate between movies with the same title. "
   ]
  },
  {
   "cell_type": "code",
   "execution_count": 4,
   "id": "9452588d",
   "metadata": {
    "colab": {
     "base_uri": "https://localhost:8080/",
     "height": 206
    },
    "id": "48d1014e",
    "outputId": "154da0fd-c544-455e-ece2-d3cfad8750de"
   },
   "outputs": [
    {
     "data": {
      "text/html": [
       "<div>\n",
       "<style scoped>\n",
       "    .dataframe tbody tr th:only-of-type {\n",
       "        vertical-align: middle;\n",
       "    }\n",
       "\n",
       "    .dataframe tbody tr th {\n",
       "        vertical-align: top;\n",
       "    }\n",
       "\n",
       "    .dataframe thead th {\n",
       "        text-align: right;\n",
       "    }\n",
       "</style>\n",
       "<table border=\"1\" class=\"dataframe\">\n",
       "  <thead>\n",
       "    <tr style=\"text-align: right;\">\n",
       "      <th></th>\n",
       "      <th>tconst</th>\n",
       "      <th>primaryTitle</th>\n",
       "      <th>startYear</th>\n",
       "    </tr>\n",
       "  </thead>\n",
       "  <tbody>\n",
       "    <tr>\n",
       "      <th>8</th>\n",
       "      <td>tt0000009</td>\n",
       "      <td>Miss Jerry</td>\n",
       "      <td>1894</td>\n",
       "    </tr>\n",
       "    <tr>\n",
       "      <th>144</th>\n",
       "      <td>tt0000147</td>\n",
       "      <td>The Corbett-Fitzsimmons Fight</td>\n",
       "      <td>1897</td>\n",
       "    </tr>\n",
       "    <tr>\n",
       "      <th>498</th>\n",
       "      <td>tt0000502</td>\n",
       "      <td>Bohemios</td>\n",
       "      <td>1905</td>\n",
       "    </tr>\n",
       "    <tr>\n",
       "      <th>570</th>\n",
       "      <td>tt0000574</td>\n",
       "      <td>The Story of the Kelly Gang</td>\n",
       "      <td>1906</td>\n",
       "    </tr>\n",
       "    <tr>\n",
       "      <th>587</th>\n",
       "      <td>tt0000591</td>\n",
       "      <td>The Prodigal Son</td>\n",
       "      <td>1907</td>\n",
       "    </tr>\n",
       "  </tbody>\n",
       "</table>\n",
       "</div>"
      ],
      "text/plain": [
       "        tconst                   primaryTitle  startYear\n",
       "8    tt0000009                     Miss Jerry       1894\n",
       "144  tt0000147  The Corbett-Fitzsimmons Fight       1897\n",
       "498  tt0000502                       Bohemios       1905\n",
       "570  tt0000574    The Story of the Kelly Gang       1906\n",
       "587  tt0000591               The Prodigal Son       1907"
      ]
     },
     "execution_count": 4,
     "metadata": {},
     "output_type": "execute_result"
    }
   ],
   "source": [
    "names_movies=names_movies[['tconst','primaryTitle', 'startYear']]\n",
    "names_movies=names_movies[names_movies['startYear']!=\"\\\\N\"] #removing movies with unknown year of release\n",
    "names_movies['startYear']=pd.to_numeric(names_movies['startYear']) #turning year string to integer\n",
    "names_movies.head()"
   ]
  },
  {
   "cell_type": "markdown",
   "id": "7da231be",
   "metadata": {
    "id": "20735f56"
   },
   "source": [
    "Another file from IMBD we need is table with ratings."
   ]
  },
  {
   "cell_type": "code",
   "execution_count": 5,
   "id": "aa6fdf1b",
   "metadata": {
    "id": "0304e0c8"
   },
   "outputs": [
    {
     "data": {
      "text/html": [
       "<div>\n",
       "<style scoped>\n",
       "    .dataframe tbody tr th:only-of-type {\n",
       "        vertical-align: middle;\n",
       "    }\n",
       "\n",
       "    .dataframe tbody tr th {\n",
       "        vertical-align: top;\n",
       "    }\n",
       "\n",
       "    .dataframe thead th {\n",
       "        text-align: right;\n",
       "    }\n",
       "</style>\n",
       "<table border=\"1\" class=\"dataframe\">\n",
       "  <thead>\n",
       "    <tr style=\"text-align: right;\">\n",
       "      <th></th>\n",
       "      <th>tconst</th>\n",
       "      <th>averageRating</th>\n",
       "      <th>numVotes</th>\n",
       "    </tr>\n",
       "  </thead>\n",
       "  <tbody>\n",
       "    <tr>\n",
       "      <th>0</th>\n",
       "      <td>tt0000001</td>\n",
       "      <td>5.7</td>\n",
       "      <td>1930</td>\n",
       "    </tr>\n",
       "    <tr>\n",
       "      <th>1</th>\n",
       "      <td>tt0000002</td>\n",
       "      <td>5.8</td>\n",
       "      <td>261</td>\n",
       "    </tr>\n",
       "    <tr>\n",
       "      <th>2</th>\n",
       "      <td>tt0000003</td>\n",
       "      <td>6.5</td>\n",
       "      <td>1746</td>\n",
       "    </tr>\n",
       "    <tr>\n",
       "      <th>3</th>\n",
       "      <td>tt0000004</td>\n",
       "      <td>5.6</td>\n",
       "      <td>176</td>\n",
       "    </tr>\n",
       "    <tr>\n",
       "      <th>4</th>\n",
       "      <td>tt0000005</td>\n",
       "      <td>6.2</td>\n",
       "      <td>2561</td>\n",
       "    </tr>\n",
       "  </tbody>\n",
       "</table>\n",
       "</div>"
      ],
      "text/plain": [
       "      tconst  averageRating  numVotes\n",
       "0  tt0000001            5.7      1930\n",
       "1  tt0000002            5.8       261\n",
       "2  tt0000003            6.5      1746\n",
       "3  tt0000004            5.6       176\n",
       "4  tt0000005            6.2      2561"
      ]
     },
     "execution_count": 5,
     "metadata": {},
     "output_type": "execute_result"
    }
   ],
   "source": [
    "ratings=pd.read_csv('data/title.ratings.tsv.gz', compression='gzip', header=0, sep=\"\\t\")\n",
    "ratings.head()"
   ]
  },
  {
   "cell_type": "markdown",
   "id": "2614682d",
   "metadata": {
    "id": "3de23515"
   },
   "source": [
    "We can now merge two dataframes."
   ]
  },
  {
   "cell_type": "code",
   "execution_count": 6,
   "id": "bb52d398",
   "metadata": {
    "colab": {
     "base_uri": "https://localhost:8080/",
     "height": 206
    },
    "id": "94b04989",
    "outputId": "e7157daa-257c-46e4-ab0c-a5803cfa5f32"
   },
   "outputs": [
    {
     "data": {
      "text/html": [
       "<div>\n",
       "<style scoped>\n",
       "    .dataframe tbody tr th:only-of-type {\n",
       "        vertical-align: middle;\n",
       "    }\n",
       "\n",
       "    .dataframe tbody tr th {\n",
       "        vertical-align: top;\n",
       "    }\n",
       "\n",
       "    .dataframe thead th {\n",
       "        text-align: right;\n",
       "    }\n",
       "</style>\n",
       "<table border=\"1\" class=\"dataframe\">\n",
       "  <thead>\n",
       "    <tr style=\"text-align: right;\">\n",
       "      <th></th>\n",
       "      <th>tconst</th>\n",
       "      <th>averageRating</th>\n",
       "      <th>numVotes</th>\n",
       "      <th>primaryTitle</th>\n",
       "      <th>startYear</th>\n",
       "    </tr>\n",
       "  </thead>\n",
       "  <tbody>\n",
       "    <tr>\n",
       "      <th>0</th>\n",
       "      <td>tt0000009</td>\n",
       "      <td>5.3</td>\n",
       "      <td>201</td>\n",
       "      <td>Miss Jerry</td>\n",
       "      <td>1894</td>\n",
       "    </tr>\n",
       "    <tr>\n",
       "      <th>1</th>\n",
       "      <td>tt0000147</td>\n",
       "      <td>5.2</td>\n",
       "      <td>460</td>\n",
       "      <td>The Corbett-Fitzsimmons Fight</td>\n",
       "      <td>1897</td>\n",
       "    </tr>\n",
       "    <tr>\n",
       "      <th>2</th>\n",
       "      <td>tt0000502</td>\n",
       "      <td>4.2</td>\n",
       "      <td>14</td>\n",
       "      <td>Bohemios</td>\n",
       "      <td>1905</td>\n",
       "    </tr>\n",
       "    <tr>\n",
       "      <th>3</th>\n",
       "      <td>tt0000574</td>\n",
       "      <td>6.0</td>\n",
       "      <td>797</td>\n",
       "      <td>The Story of the Kelly Gang</td>\n",
       "      <td>1906</td>\n",
       "    </tr>\n",
       "    <tr>\n",
       "      <th>4</th>\n",
       "      <td>tt0000591</td>\n",
       "      <td>4.4</td>\n",
       "      <td>19</td>\n",
       "      <td>The Prodigal Son</td>\n",
       "      <td>1907</td>\n",
       "    </tr>\n",
       "  </tbody>\n",
       "</table>\n",
       "</div>"
      ],
      "text/plain": [
       "      tconst  averageRating  numVotes                   primaryTitle  \\\n",
       "0  tt0000009            5.3       201                     Miss Jerry   \n",
       "1  tt0000147            5.2       460  The Corbett-Fitzsimmons Fight   \n",
       "2  tt0000502            4.2        14                       Bohemios   \n",
       "3  tt0000574            6.0       797    The Story of the Kelly Gang   \n",
       "4  tt0000591            4.4        19               The Prodigal Son   \n",
       "\n",
       "   startYear  \n",
       "0       1894  \n",
       "1       1897  \n",
       "2       1905  \n",
       "3       1906  \n",
       "4       1907  "
      ]
     },
     "execution_count": 6,
     "metadata": {},
     "output_type": "execute_result"
    }
   ],
   "source": [
    "ratings_complete=ratings.merge(names_movies)\n",
    "ratings_complete.head()"
   ]
  },
  {
   "cell_type": "markdown",
   "id": "f35948e8",
   "metadata": {
    "id": "1b3214ae"
   },
   "source": [
    "As there are many films which are rated by few people, it would be a good option to filter table by number of votes - if more than one thousand people voted then we take the movie for analysis. We also removing movies older than 1980 to delete too old movies."
   ]
  },
  {
   "cell_type": "code",
   "execution_count": 7,
   "id": "a4907075",
   "metadata": {
    "colab": {
     "base_uri": "https://localhost:8080/"
    },
    "id": "8351880b",
    "outputId": "0cfa4df8-4087-4e8e-8b75-9979db451db6",
    "scrolled": true
   },
   "outputs": [
    {
     "data": {
      "text/plain": [
       "(31739, 5)"
      ]
     },
     "execution_count": 7,
     "metadata": {},
     "output_type": "execute_result"
    }
   ],
   "source": [
    "ratings_popular = ratings_complete[ratings_complete['numVotes']>=1000]\n",
    "ratings_popular = ratings_popular[ratings_popular['startYear'] >= 1980].reset_index(drop = True)\n",
    "ratings_popular.shape"
   ]
  },
  {
   "cell_type": "markdown",
   "id": "e0f9750d",
   "metadata": {
    "id": "8a9b5df5"
   },
   "source": [
    "31739 movies is a good amount for our analysis. We expect this number to reduce as we start looking for the plot description from wikipedia."
   ]
  },
  {
   "cell_type": "markdown",
   "id": "cfef68ae",
   "metadata": {
    "id": "79654841"
   },
   "source": [
    "## Loading plots from wikipedia"
   ]
  },
  {
   "cell_type": "markdown",
   "id": "4f90db81",
   "metadata": {},
   "source": [
    "Uncomment the cell in case the library is not installed:"
   ]
  },
  {
   "cell_type": "code",
   "execution_count": 8,
   "id": "6a88a33f",
   "metadata": {
    "colab": {
     "base_uri": "https://localhost:8080/"
    },
    "id": "1bdb7af1",
    "outputId": "bdd1f830-91e5-4800-e73f-d5ebcd6107bd"
   },
   "outputs": [],
   "source": [
    "#pip install wikipedia"
   ]
  },
  {
   "cell_type": "code",
   "execution_count": 9,
   "id": "afeeee97",
   "metadata": {
    "id": "d1a9fd01"
   },
   "outputs": [],
   "source": [
    "import wikipedia\n",
    "import csv\n",
    "import os"
   ]
  },
  {
   "cell_type": "markdown",
   "id": "0fb7a63f",
   "metadata": {
    "id": "f0351bfb"
   },
   "source": [
    "We will write the function which searches the film title from wikipedia API library and add the plot to the dataframe if there is such article. "
   ]
  },
  {
   "cell_type": "code",
   "execution_count": 10,
   "id": "1f2f4b54",
   "metadata": {
    "id": "118332e8"
   },
   "outputs": [],
   "source": [
    "def plot_wiki(tconst, title, year):\n",
    "    try:\n",
    "        plot_words = ['Plot ==\\n', 'Synopsis ==\\n', 'Content ==\\n', 'Plot synopsis ==\\n'] #possible plot section titles in wiki\n",
    "        wiki_page = wikipedia.page(title+' film '+str(year))\n",
    "        for word in plot_words:\n",
    "            start = wiki_page.content.find(word) \n",
    "            if start > 0: #if no plot related section is found, method returns 0\n",
    "                start+=len(word)-1\n",
    "                end=wiki_page.content.find('\\n\\n\\n', start)\n",
    "                content=wiki_page.content[start:end].replace('\\n', '').replace('\\'','')\n",
    "                return content\n",
    "    except:\n",
    "        pass"
   ]
  },
  {
   "cell_type": "markdown",
   "id": "91b0e414",
   "metadata": {},
   "source": [
    "Scraping took more than 24 hours so we formulated the code the way it can be shutdown at any time and when the notebook is run again, it picks up where it stopped. This way we can optimize our computational resources."
   ]
  },
  {
   "cell_type": "code",
   "execution_count": 11,
   "id": "0c9c95fa",
   "metadata": {},
   "outputs": [
    {
     "name": "stderr",
     "output_type": "stream",
     "text": [
      "100%|███████████████████████████████████████████████████████████████████████████| 31739/31739 [01:56<00:00, 273.06it/s]\n"
     ]
    }
   ],
   "source": [
    "# Import DictWriter class from CSV module\n",
    "#checking if the file exisits and checking the last scraped movie index\n",
    "if not os.path.exists('data/movie_plots.csv'):\n",
    "    with open('data/movie_plots.csv', 'a', newline = \"\") as f_object:\n",
    "        writer = csv.writer(f_object)\n",
    "        writer.writerow(['index','tconst', 'primaryTitle', 'plot', 'rating'])\n",
    "    last_i = -1\n",
    "else:\n",
    "    last_i = pd.read_csv('data/movie_plots.csv', encoding = 'latin1', header=1).iloc[-1, 0]\n",
    "\n",
    "#loop for scraping plots\n",
    "with open('data/movie_plots.csv', 'a', newline = \"\") as f_object:\n",
    "    writer = csv.writer(f_object)\n",
    "    for i in tqdm(range(last_i+1,len(ratings_popular))):\n",
    "        try:\n",
    "            row = ratings_popular.iloc[i]\n",
    "            content = plot_wiki(row.tconst, row.primaryTitle, row.startYear)\n",
    "            if content:\n",
    "                writer.writerow([i, row.tconst, row.primaryTitle, content, row.averageRating])\n",
    "        except:\n",
    "            continue\n"
   ]
  },
  {
   "cell_type": "markdown",
   "id": "4b265afe",
   "metadata": {},
   "source": [
    "All collected data is saved to csv file which can be used for further analysis."
   ]
  }
 ],
 "metadata": {
  "colab": {
   "provenance": []
  },
  "gpuClass": "standard",
  "kernelspec": {
   "display_name": "Python 3 (ipykernel)",
   "language": "python",
   "name": "python3"
  },
  "language_info": {
   "codemirror_mode": {
    "name": "ipython",
    "version": 3
   },
   "file_extension": ".py",
   "mimetype": "text/x-python",
   "name": "python",
   "nbconvert_exporter": "python",
   "pygments_lexer": "ipython3",
   "version": "3.8.5"
  }
 },
 "nbformat": 4,
 "nbformat_minor": 5
}
