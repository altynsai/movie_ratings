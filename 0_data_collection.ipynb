{
  "cells": [
    {
      "cell_type": "markdown",
      "metadata": {
        "id": "70ddbe79"
      },
      "source": [
        "# NLP analysis of movie plots: scraping wikipedia"
      ],
      "id": "70ddbe79"
    },
    {
      "cell_type": "markdown",
      "metadata": {
        "id": "71b72897"
      },
      "source": [
        "This is a pet project to master web scraping and natural language processing (NLP) techniques. The main research question is to find some patterns in the plot of highly rated movies."
      ],
      "id": "71b72897"
    },
    {
      "cell_type": "code",
      "execution_count": 1,
      "metadata": {
        "id": "2936002d"
      },
      "outputs": [],
      "source": [
        "import pandas as pd\n",
        "from tqdm import tqdm\n",
        "import warnings\n",
        "warnings.filterwarnings(\"ignore\")"
      ],
      "id": "2936002d"
    },
    {
      "cell_type": "markdown",
      "metadata": {
        "id": "98fbf0ae"
      },
      "source": [
        "We use ratings from IMBD website. IMBD post data on movies and their ratings given by the its website users."
      ],
      "id": "98fbf0ae"
    },
    {
      "cell_type": "code",
      "execution_count": 2,
      "metadata": {
        "id": "1d30c78d"
      },
      "outputs": [],
      "source": [
        "names=pd.read_csv('https://datasets.imdbws.com/title.basics.tsv.gz', compression='gzip', header=0, sep=\"\\t\")"
      ],
      "id": "1d30c78d"
    },
    {
      "cell_type": "markdown",
      "metadata": {
        "id": "733c90af"
      },
      "source": [
        "Then we filter only movies (removing series) in order to shrink our data and avoid complications with loading plot from wikipedia"
      ],
      "id": "733c90af"
    },
    {
      "cell_type": "code",
      "execution_count": 3,
      "metadata": {
        "id": "94fff150"
      },
      "outputs": [],
      "source": [
        "names_movies=names[names['titleType']=='movie']"
      ],
      "id": "94fff150"
    },
    {
      "cell_type": "markdown",
      "metadata": {
        "id": "2a3734d0"
      },
      "source": [
        "Only 2 columns are necessary - unique number of film on imbd and its title."
      ],
      "id": "2a3734d0"
    },
    {
      "cell_type": "code",
      "execution_count": 4,
      "metadata": {
        "colab": {
          "base_uri": "https://localhost:8080/",
          "height": 206
        },
        "id": "7d3ebabf",
        "outputId": "d33e4154-4ea4-4385-96fd-8b3911f5da12"
      },
      "outputs": [
        {
          "output_type": "execute_result",
          "data": {
            "text/plain": [
              "            tconst                                       primaryTitle\n",
              "209175   tt0218183  Every Child Is Born a Poet: The Life and Work ...\n",
              "85312    tt0087248                       Het feest en de grote leugen\n",
              "61576    tt0062825                                      Run, Man, Run\n",
              "3953486  tt1545594                                         Chhoto Bou\n",
              "300747   tt0314245                                  K Chyornomu moryu"
            ],
            "text/html": [
              "\n",
              "  <div id=\"df-93a951c6-8586-4c56-9a27-f31b613ab76b\">\n",
              "    <div class=\"colab-df-container\">\n",
              "      <div>\n",
              "<style scoped>\n",
              "    .dataframe tbody tr th:only-of-type {\n",
              "        vertical-align: middle;\n",
              "    }\n",
              "\n",
              "    .dataframe tbody tr th {\n",
              "        vertical-align: top;\n",
              "    }\n",
              "\n",
              "    .dataframe thead th {\n",
              "        text-align: right;\n",
              "    }\n",
              "</style>\n",
              "<table border=\"1\" class=\"dataframe\">\n",
              "  <thead>\n",
              "    <tr style=\"text-align: right;\">\n",
              "      <th></th>\n",
              "      <th>tconst</th>\n",
              "      <th>primaryTitle</th>\n",
              "    </tr>\n",
              "  </thead>\n",
              "  <tbody>\n",
              "    <tr>\n",
              "      <th>209175</th>\n",
              "      <td>tt0218183</td>\n",
              "      <td>Every Child Is Born a Poet: The Life and Work ...</td>\n",
              "    </tr>\n",
              "    <tr>\n",
              "      <th>85312</th>\n",
              "      <td>tt0087248</td>\n",
              "      <td>Het feest en de grote leugen</td>\n",
              "    </tr>\n",
              "    <tr>\n",
              "      <th>61576</th>\n",
              "      <td>tt0062825</td>\n",
              "      <td>Run, Man, Run</td>\n",
              "    </tr>\n",
              "    <tr>\n",
              "      <th>3953486</th>\n",
              "      <td>tt1545594</td>\n",
              "      <td>Chhoto Bou</td>\n",
              "    </tr>\n",
              "    <tr>\n",
              "      <th>300747</th>\n",
              "      <td>tt0314245</td>\n",
              "      <td>K Chyornomu moryu</td>\n",
              "    </tr>\n",
              "  </tbody>\n",
              "</table>\n",
              "</div>\n",
              "      <button class=\"colab-df-convert\" onclick=\"convertToInteractive('df-93a951c6-8586-4c56-9a27-f31b613ab76b')\"\n",
              "              title=\"Convert this dataframe to an interactive table.\"\n",
              "              style=\"display:none;\">\n",
              "        \n",
              "  <svg xmlns=\"http://www.w3.org/2000/svg\" height=\"24px\"viewBox=\"0 0 24 24\"\n",
              "       width=\"24px\">\n",
              "    <path d=\"M0 0h24v24H0V0z\" fill=\"none\"/>\n",
              "    <path d=\"M18.56 5.44l.94 2.06.94-2.06 2.06-.94-2.06-.94-.94-2.06-.94 2.06-2.06.94zm-11 1L8.5 8.5l.94-2.06 2.06-.94-2.06-.94L8.5 2.5l-.94 2.06-2.06.94zm10 10l.94 2.06.94-2.06 2.06-.94-2.06-.94-.94-2.06-.94 2.06-2.06.94z\"/><path d=\"M17.41 7.96l-1.37-1.37c-.4-.4-.92-.59-1.43-.59-.52 0-1.04.2-1.43.59L10.3 9.45l-7.72 7.72c-.78.78-.78 2.05 0 2.83L4 21.41c.39.39.9.59 1.41.59.51 0 1.02-.2 1.41-.59l7.78-7.78 2.81-2.81c.8-.78.8-2.07 0-2.86zM5.41 20L4 18.59l7.72-7.72 1.47 1.35L5.41 20z\"/>\n",
              "  </svg>\n",
              "      </button>\n",
              "      \n",
              "  <style>\n",
              "    .colab-df-container {\n",
              "      display:flex;\n",
              "      flex-wrap:wrap;\n",
              "      gap: 12px;\n",
              "    }\n",
              "\n",
              "    .colab-df-convert {\n",
              "      background-color: #E8F0FE;\n",
              "      border: none;\n",
              "      border-radius: 50%;\n",
              "      cursor: pointer;\n",
              "      display: none;\n",
              "      fill: #1967D2;\n",
              "      height: 32px;\n",
              "      padding: 0 0 0 0;\n",
              "      width: 32px;\n",
              "    }\n",
              "\n",
              "    .colab-df-convert:hover {\n",
              "      background-color: #E2EBFA;\n",
              "      box-shadow: 0px 1px 2px rgba(60, 64, 67, 0.3), 0px 1px 3px 1px rgba(60, 64, 67, 0.15);\n",
              "      fill: #174EA6;\n",
              "    }\n",
              "\n",
              "    [theme=dark] .colab-df-convert {\n",
              "      background-color: #3B4455;\n",
              "      fill: #D2E3FC;\n",
              "    }\n",
              "\n",
              "    [theme=dark] .colab-df-convert:hover {\n",
              "      background-color: #434B5C;\n",
              "      box-shadow: 0px 1px 3px 1px rgba(0, 0, 0, 0.15);\n",
              "      filter: drop-shadow(0px 1px 2px rgba(0, 0, 0, 0.3));\n",
              "      fill: #FFFFFF;\n",
              "    }\n",
              "  </style>\n",
              "\n",
              "      <script>\n",
              "        const buttonEl =\n",
              "          document.querySelector('#df-93a951c6-8586-4c56-9a27-f31b613ab76b button.colab-df-convert');\n",
              "        buttonEl.style.display =\n",
              "          google.colab.kernel.accessAllowed ? 'block' : 'none';\n",
              "\n",
              "        async function convertToInteractive(key) {\n",
              "          const element = document.querySelector('#df-93a951c6-8586-4c56-9a27-f31b613ab76b');\n",
              "          const dataTable =\n",
              "            await google.colab.kernel.invokeFunction('convertToInteractive',\n",
              "                                                     [key], {});\n",
              "          if (!dataTable) return;\n",
              "\n",
              "          const docLinkHtml = 'Like what you see? Visit the ' +\n",
              "            '<a target=\"_blank\" href=https://colab.research.google.com/notebooks/data_table.ipynb>data table notebook</a>'\n",
              "            + ' to learn more about interactive tables.';\n",
              "          element.innerHTML = '';\n",
              "          dataTable['output_type'] = 'display_data';\n",
              "          await google.colab.output.renderOutput(dataTable, element);\n",
              "          const docLink = document.createElement('div');\n",
              "          docLink.innerHTML = docLinkHtml;\n",
              "          element.appendChild(docLink);\n",
              "        }\n",
              "      </script>\n",
              "    </div>\n",
              "  </div>\n",
              "  "
            ]
          },
          "metadata": {},
          "execution_count": 4
        }
      ],
      "source": [
        "names_movies=names_movies[['tconst','primaryTitle']]\n",
        "names_movies.sample(5)"
      ],
      "id": "7d3ebabf"
    },
    {
      "cell_type": "markdown",
      "metadata": {
        "id": "4071c3f2"
      },
      "source": [
        "Another file from IMBD contains data on the ratings and number of votes by movie"
      ],
      "id": "4071c3f2"
    },
    {
      "cell_type": "code",
      "execution_count": 5,
      "metadata": {
        "id": "ca414338"
      },
      "outputs": [],
      "source": [
        "ratings=pd.read_csv('https://datasets.imdbws.com/title.ratings.tsv.gz', compression='gzip', header=0, sep=\"\\t\")"
      ],
      "id": "ca414338"
    },
    {
      "cell_type": "markdown",
      "metadata": {
        "id": "7458b7d7"
      },
      "source": [
        "We can now merge to dataframes to get a table with ratings, votes and titles."
      ],
      "id": "7458b7d7"
    },
    {
      "cell_type": "code",
      "execution_count": 6,
      "metadata": {
        "colab": {
          "base_uri": "https://localhost:8080/",
          "height": 206
        },
        "id": "d21c2fb5",
        "outputId": "75c2ea33-fb62-426c-ba78-03e2e525c975"
      },
      "outputs": [
        {
          "output_type": "execute_result",
          "data": {
            "text/plain": [
              "            tconst  averageRating  numVotes               primaryTitle\n",
              "36121    tt0068789            6.7       216  Justin Morgan Had a Horse\n",
              "152192   tt1091746            6.6        89                   The Idol\n",
              "126557   tt0404752            5.3        13          Al canto del cucù\n",
              "174461  tt14043522            6.8        19       Tales of a Toy Horse\n",
              "120663   tt0364530            5.4       185                  Mr. Romeo"
            ],
            "text/html": [
              "\n",
              "  <div id=\"df-d14e6f9b-8197-4ee6-a09b-a2db81114d52\">\n",
              "    <div class=\"colab-df-container\">\n",
              "      <div>\n",
              "<style scoped>\n",
              "    .dataframe tbody tr th:only-of-type {\n",
              "        vertical-align: middle;\n",
              "    }\n",
              "\n",
              "    .dataframe tbody tr th {\n",
              "        vertical-align: top;\n",
              "    }\n",
              "\n",
              "    .dataframe thead th {\n",
              "        text-align: right;\n",
              "    }\n",
              "</style>\n",
              "<table border=\"1\" class=\"dataframe\">\n",
              "  <thead>\n",
              "    <tr style=\"text-align: right;\">\n",
              "      <th></th>\n",
              "      <th>tconst</th>\n",
              "      <th>averageRating</th>\n",
              "      <th>numVotes</th>\n",
              "      <th>primaryTitle</th>\n",
              "    </tr>\n",
              "  </thead>\n",
              "  <tbody>\n",
              "    <tr>\n",
              "      <th>36121</th>\n",
              "      <td>tt0068789</td>\n",
              "      <td>6.7</td>\n",
              "      <td>216</td>\n",
              "      <td>Justin Morgan Had a Horse</td>\n",
              "    </tr>\n",
              "    <tr>\n",
              "      <th>152192</th>\n",
              "      <td>tt1091746</td>\n",
              "      <td>6.6</td>\n",
              "      <td>89</td>\n",
              "      <td>The Idol</td>\n",
              "    </tr>\n",
              "    <tr>\n",
              "      <th>126557</th>\n",
              "      <td>tt0404752</td>\n",
              "      <td>5.3</td>\n",
              "      <td>13</td>\n",
              "      <td>Al canto del cucù</td>\n",
              "    </tr>\n",
              "    <tr>\n",
              "      <th>174461</th>\n",
              "      <td>tt14043522</td>\n",
              "      <td>6.8</td>\n",
              "      <td>19</td>\n",
              "      <td>Tales of a Toy Horse</td>\n",
              "    </tr>\n",
              "    <tr>\n",
              "      <th>120663</th>\n",
              "      <td>tt0364530</td>\n",
              "      <td>5.4</td>\n",
              "      <td>185</td>\n",
              "      <td>Mr. Romeo</td>\n",
              "    </tr>\n",
              "  </tbody>\n",
              "</table>\n",
              "</div>\n",
              "      <button class=\"colab-df-convert\" onclick=\"convertToInteractive('df-d14e6f9b-8197-4ee6-a09b-a2db81114d52')\"\n",
              "              title=\"Convert this dataframe to an interactive table.\"\n",
              "              style=\"display:none;\">\n",
              "        \n",
              "  <svg xmlns=\"http://www.w3.org/2000/svg\" height=\"24px\"viewBox=\"0 0 24 24\"\n",
              "       width=\"24px\">\n",
              "    <path d=\"M0 0h24v24H0V0z\" fill=\"none\"/>\n",
              "    <path d=\"M18.56 5.44l.94 2.06.94-2.06 2.06-.94-2.06-.94-.94-2.06-.94 2.06-2.06.94zm-11 1L8.5 8.5l.94-2.06 2.06-.94-2.06-.94L8.5 2.5l-.94 2.06-2.06.94zm10 10l.94 2.06.94-2.06 2.06-.94-2.06-.94-.94-2.06-.94 2.06-2.06.94z\"/><path d=\"M17.41 7.96l-1.37-1.37c-.4-.4-.92-.59-1.43-.59-.52 0-1.04.2-1.43.59L10.3 9.45l-7.72 7.72c-.78.78-.78 2.05 0 2.83L4 21.41c.39.39.9.59 1.41.59.51 0 1.02-.2 1.41-.59l7.78-7.78 2.81-2.81c.8-.78.8-2.07 0-2.86zM5.41 20L4 18.59l7.72-7.72 1.47 1.35L5.41 20z\"/>\n",
              "  </svg>\n",
              "      </button>\n",
              "      \n",
              "  <style>\n",
              "    .colab-df-container {\n",
              "      display:flex;\n",
              "      flex-wrap:wrap;\n",
              "      gap: 12px;\n",
              "    }\n",
              "\n",
              "    .colab-df-convert {\n",
              "      background-color: #E8F0FE;\n",
              "      border: none;\n",
              "      border-radius: 50%;\n",
              "      cursor: pointer;\n",
              "      display: none;\n",
              "      fill: #1967D2;\n",
              "      height: 32px;\n",
              "      padding: 0 0 0 0;\n",
              "      width: 32px;\n",
              "    }\n",
              "\n",
              "    .colab-df-convert:hover {\n",
              "      background-color: #E2EBFA;\n",
              "      box-shadow: 0px 1px 2px rgba(60, 64, 67, 0.3), 0px 1px 3px 1px rgba(60, 64, 67, 0.15);\n",
              "      fill: #174EA6;\n",
              "    }\n",
              "\n",
              "    [theme=dark] .colab-df-convert {\n",
              "      background-color: #3B4455;\n",
              "      fill: #D2E3FC;\n",
              "    }\n",
              "\n",
              "    [theme=dark] .colab-df-convert:hover {\n",
              "      background-color: #434B5C;\n",
              "      box-shadow: 0px 1px 3px 1px rgba(0, 0, 0, 0.15);\n",
              "      filter: drop-shadow(0px 1px 2px rgba(0, 0, 0, 0.3));\n",
              "      fill: #FFFFFF;\n",
              "    }\n",
              "  </style>\n",
              "\n",
              "      <script>\n",
              "        const buttonEl =\n",
              "          document.querySelector('#df-d14e6f9b-8197-4ee6-a09b-a2db81114d52 button.colab-df-convert');\n",
              "        buttonEl.style.display =\n",
              "          google.colab.kernel.accessAllowed ? 'block' : 'none';\n",
              "\n",
              "        async function convertToInteractive(key) {\n",
              "          const element = document.querySelector('#df-d14e6f9b-8197-4ee6-a09b-a2db81114d52');\n",
              "          const dataTable =\n",
              "            await google.colab.kernel.invokeFunction('convertToInteractive',\n",
              "                                                     [key], {});\n",
              "          if (!dataTable) return;\n",
              "\n",
              "          const docLinkHtml = 'Like what you see? Visit the ' +\n",
              "            '<a target=\"_blank\" href=https://colab.research.google.com/notebooks/data_table.ipynb>data table notebook</a>'\n",
              "            + ' to learn more about interactive tables.';\n",
              "          element.innerHTML = '';\n",
              "          dataTable['output_type'] = 'display_data';\n",
              "          await google.colab.output.renderOutput(dataTable, element);\n",
              "          const docLink = document.createElement('div');\n",
              "          docLink.innerHTML = docLinkHtml;\n",
              "          element.appendChild(docLink);\n",
              "        }\n",
              "      </script>\n",
              "    </div>\n",
              "  </div>\n",
              "  "
            ]
          },
          "metadata": {},
          "execution_count": 6
        }
      ],
      "source": [
        "ratings_complete=ratings.merge(names_movies)\n",
        "ratings_complete.sample(5)"
      ],
      "id": "d21c2fb5"
    },
    {
      "cell_type": "markdown",
      "metadata": {
        "id": "c6780cb4"
      },
      "source": [
        "As there are many films which are not rated by many people, it would be a good option to filter table by number of votes - if more than 50 thousand people voted then we take the movie for analysis."
      ],
      "id": "c6780cb4"
    },
    {
      "cell_type": "code",
      "execution_count": 7,
      "metadata": {
        "colab": {
          "base_uri": "https://localhost:8080/"
        },
        "id": "c3ccf933",
        "outputId": "a6c87f61-844e-48b7-ed72-ad71aa22ecfe"
      },
      "outputs": [
        {
          "output_type": "execute_result",
          "data": {
            "text/plain": [
              "(38725, 4)"
            ]
          },
          "metadata": {},
          "execution_count": 7
        }
      ],
      "source": [
        "ratings_popular=ratings_complete[ratings_complete['numVotes']>1000]\n",
        "ratings_popular.shape"
      ],
      "id": "c3ccf933"
    },
    {
      "cell_type": "markdown",
      "metadata": {
        "id": "bfd8a59f"
      },
      "source": [
        "3825 movies is a good amount for our analysis. We expect this number to reduce as we start looking for the plot description from wikipedia."
      ],
      "id": "bfd8a59f"
    },
    {
      "cell_type": "markdown",
      "metadata": {
        "id": "21d33e2f"
      },
      "source": [
        "## Loading plots from wikipedia"
      ],
      "id": "21d33e2f"
    },
    {
      "cell_type": "code",
      "execution_count": 8,
      "metadata": {
        "colab": {
          "base_uri": "https://localhost:8080/"
        },
        "id": "1294e80a",
        "outputId": "451abf68-609a-4741-e857-72d48919cfb4"
      },
      "outputs": [
        {
          "output_type": "stream",
          "name": "stdout",
          "text": [
            "Looking in indexes: https://pypi.org/simple, https://us-python.pkg.dev/colab-wheels/public/simple/\n",
            "Collecting wikipedia\n",
            "  Downloading wikipedia-1.4.0.tar.gz (27 kB)\n",
            "Requirement already satisfied: beautifulsoup4 in /usr/local/lib/python3.7/dist-packages (from wikipedia) (4.6.3)\n",
            "Requirement already satisfied: requests<3.0.0,>=2.0.0 in /usr/local/lib/python3.7/dist-packages (from wikipedia) (2.23.0)\n",
            "Requirement already satisfied: certifi>=2017.4.17 in /usr/local/lib/python3.7/dist-packages (from requests<3.0.0,>=2.0.0->wikipedia) (2022.9.24)\n",
            "Requirement already satisfied: chardet<4,>=3.0.2 in /usr/local/lib/python3.7/dist-packages (from requests<3.0.0,>=2.0.0->wikipedia) (3.0.4)\n",
            "Requirement already satisfied: urllib3!=1.25.0,!=1.25.1,<1.26,>=1.21.1 in /usr/local/lib/python3.7/dist-packages (from requests<3.0.0,>=2.0.0->wikipedia) (1.24.3)\n",
            "Requirement already satisfied: idna<3,>=2.5 in /usr/local/lib/python3.7/dist-packages (from requests<3.0.0,>=2.0.0->wikipedia) (2.10)\n",
            "Building wheels for collected packages: wikipedia\n",
            "  Building wheel for wikipedia (setup.py) ... \u001b[?25l\u001b[?25hdone\n",
            "  Created wheel for wikipedia: filename=wikipedia-1.4.0-py3-none-any.whl size=11695 sha256=464dd04183cc5cef8cdc5dbdb50341dd62327199d075032d88110b22cb5f9c27\n",
            "  Stored in directory: /root/.cache/pip/wheels/15/93/6d/5b2c68b8a64c7a7a04947b4ed6d89fb557dcc6bc27d1d7f3ba\n",
            "Successfully built wikipedia\n",
            "Installing collected packages: wikipedia\n",
            "Successfully installed wikipedia-1.4.0\n"
          ]
        }
      ],
      "source": [
        "pip install wikipedia"
      ],
      "id": "1294e80a"
    },
    {
      "cell_type": "code",
      "execution_count": 9,
      "metadata": {
        "id": "e454f082"
      },
      "outputs": [],
      "source": [
        "import wikipedia"
      ],
      "id": "e454f082"
    },
    {
      "cell_type": "markdown",
      "metadata": {
        "id": "866d4c17"
      },
      "source": [
        "We will write the function which searches the film title from wikipedia and add the plot to the dataframe if there is such article. For this purpose we are using wikipedia API."
      ],
      "id": "866d4c17"
    },
    {
      "cell_type": "code",
      "execution_count": 10,
      "metadata": {
        "id": "82f96f8c"
      },
      "outputs": [],
      "source": [
        "def plot_wiki(df, i):\n",
        "    try:\n",
        "        title = df.iloc[i]['primaryTitle'].replace(\" \", \"_\" )\n",
        "        wiki_page = wikipedia.page(df.iloc[i]['primaryTitle'])\n",
        "        if wiki_page.content.find('Plot ==\\n')>0:\n",
        "            start=wiki_page.content.find('Plot ==\\n')+8\n",
        "            end=wiki_page.content.find('\\n\\n\\n', start)\n",
        "            content=wiki_page.content[start:end].replace('\\n', '').replace('\\'','')\n",
        "        return df.iloc[i]['tconst'], content\n",
        "    except:\n",
        "        return df.iloc[i]['tconst'], None"
      ],
      "id": "82f96f8c"
    },
    {
      "cell_type": "markdown",
      "metadata": {
        "id": "aeed6e3c"
      },
      "source": [
        "We form the database with plot description. As there are many movies it takes some time to load all the data."
      ],
      "id": "aeed6e3c"
    },
    {
      "cell_type": "code",
      "execution_count": null,
      "metadata": {
        "colab": {
          "base_uri": "https://localhost:8080/"
        },
        "id": "1b2e7c2c",
        "outputId": "7d969208-e221-43a6-c0b4-4d8be470a5aa"
      },
      "outputs": [
        {
          "output_type": "stream",
          "name": "stderr",
          "text": [
            "  1%|          | 267/38725 [01:00<2:58:36,  3.59it/s]"
          ]
        }
      ],
      "source": [
        "movie_plot=pd.DataFrame(columns={'tconst', 'plot'})\n",
        "for i in tqdm(range(len(ratings_popular))):\n",
        "  tconst, content = plot_wiki(ratings_popular, i)\n",
        "  movie_plot = movie_plot.append({'tconst':tconst,'plot':content}, ignore_index=True)\n",
        "movie_plot.head()\n"
      ],
      "id": "1b2e7c2c"
    },
    {
      "cell_type": "markdown",
      "metadata": {
        "id": "800e2853"
      },
      "source": [
        "Merging the plots we find with the dataframe from IMBD"
      ],
      "id": "800e2853"
    },
    {
      "cell_type": "code",
      "execution_count": 12,
      "metadata": {
        "id": "581f2183",
        "colab": {
          "base_uri": "https://localhost:8080/",
          "height": 424
        },
        "outputId": "a0332798-0f89-4953-ac6a-912d0b4fec94"
      },
      "outputs": [
        {
          "output_type": "execute_result",
          "data": {
            "text/plain": [
              "      tconst  averageRating  numVotes  \\\n",
              "0  tt0002130            7.0      2984   \n",
              "1  tt0002844            6.9      2327   \n",
              "2  tt0003014            7.0      1249   \n",
              "3  tt0003037            6.9      1584   \n",
              "4  tt0003165            6.9      1250   \n",
              "5  tt0003419            6.4      2166   \n",
              "6  tt0003643            6.4      1309   \n",
              "7  tt0003740            7.1      3625   \n",
              "8  tt0003772            6.1      1036   \n",
              "9  tt0003930            6.8      1344   \n",
              "\n",
              "                                        primaryTitle  \\\n",
              "0                                    Dante's Inferno   \n",
              "1          Fantômas: In the Shadow of the Guillotine   \n",
              "2                                      Ingeborg Holm   \n",
              "3                         Fantomas: The Man in Black   \n",
              "4                  Fantômas: The Dead Man Who Killed   \n",
              "5                              The Student of Prague   \n",
              "6  The Avenging Conscience: or 'Thou Shalt Not Kill'   \n",
              "7                                            Cabiria   \n",
              "8                                         Cinderella   \n",
              "9              Fantomas: The Mysterious Finger Print   \n",
              "\n",
              "                                                plot  \n",
              "0                                               None  \n",
              "1                                               None  \n",
              "2                                               None  \n",
              "3                                               None  \n",
              "4                              === Episode table ===  \n",
              "5                                               None  \n",
              "6  A young man (Henry B. Walthall) interested in ...  \n",
              "7                                               None  \n",
              "8                                               None  \n",
              "9                                               None  "
            ],
            "text/html": [
              "\n",
              "  <div id=\"df-ae88c08f-60d1-4add-81b0-4de9a4ea737a\">\n",
              "    <div class=\"colab-df-container\">\n",
              "      <div>\n",
              "<style scoped>\n",
              "    .dataframe tbody tr th:only-of-type {\n",
              "        vertical-align: middle;\n",
              "    }\n",
              "\n",
              "    .dataframe tbody tr th {\n",
              "        vertical-align: top;\n",
              "    }\n",
              "\n",
              "    .dataframe thead th {\n",
              "        text-align: right;\n",
              "    }\n",
              "</style>\n",
              "<table border=\"1\" class=\"dataframe\">\n",
              "  <thead>\n",
              "    <tr style=\"text-align: right;\">\n",
              "      <th></th>\n",
              "      <th>tconst</th>\n",
              "      <th>averageRating</th>\n",
              "      <th>numVotes</th>\n",
              "      <th>primaryTitle</th>\n",
              "      <th>plot</th>\n",
              "    </tr>\n",
              "  </thead>\n",
              "  <tbody>\n",
              "    <tr>\n",
              "      <th>0</th>\n",
              "      <td>tt0002130</td>\n",
              "      <td>7.0</td>\n",
              "      <td>2984</td>\n",
              "      <td>Dante's Inferno</td>\n",
              "      <td>None</td>\n",
              "    </tr>\n",
              "    <tr>\n",
              "      <th>1</th>\n",
              "      <td>tt0002844</td>\n",
              "      <td>6.9</td>\n",
              "      <td>2327</td>\n",
              "      <td>Fantômas: In the Shadow of the Guillotine</td>\n",
              "      <td>None</td>\n",
              "    </tr>\n",
              "    <tr>\n",
              "      <th>2</th>\n",
              "      <td>tt0003014</td>\n",
              "      <td>7.0</td>\n",
              "      <td>1249</td>\n",
              "      <td>Ingeborg Holm</td>\n",
              "      <td>None</td>\n",
              "    </tr>\n",
              "    <tr>\n",
              "      <th>3</th>\n",
              "      <td>tt0003037</td>\n",
              "      <td>6.9</td>\n",
              "      <td>1584</td>\n",
              "      <td>Fantomas: The Man in Black</td>\n",
              "      <td>None</td>\n",
              "    </tr>\n",
              "    <tr>\n",
              "      <th>4</th>\n",
              "      <td>tt0003165</td>\n",
              "      <td>6.9</td>\n",
              "      <td>1250</td>\n",
              "      <td>Fantômas: The Dead Man Who Killed</td>\n",
              "      <td>=== Episode table ===</td>\n",
              "    </tr>\n",
              "    <tr>\n",
              "      <th>5</th>\n",
              "      <td>tt0003419</td>\n",
              "      <td>6.4</td>\n",
              "      <td>2166</td>\n",
              "      <td>The Student of Prague</td>\n",
              "      <td>None</td>\n",
              "    </tr>\n",
              "    <tr>\n",
              "      <th>6</th>\n",
              "      <td>tt0003643</td>\n",
              "      <td>6.4</td>\n",
              "      <td>1309</td>\n",
              "      <td>The Avenging Conscience: or 'Thou Shalt Not Kill'</td>\n",
              "      <td>A young man (Henry B. Walthall) interested in ...</td>\n",
              "    </tr>\n",
              "    <tr>\n",
              "      <th>7</th>\n",
              "      <td>tt0003740</td>\n",
              "      <td>7.1</td>\n",
              "      <td>3625</td>\n",
              "      <td>Cabiria</td>\n",
              "      <td>None</td>\n",
              "    </tr>\n",
              "    <tr>\n",
              "      <th>8</th>\n",
              "      <td>tt0003772</td>\n",
              "      <td>6.1</td>\n",
              "      <td>1036</td>\n",
              "      <td>Cinderella</td>\n",
              "      <td>None</td>\n",
              "    </tr>\n",
              "    <tr>\n",
              "      <th>9</th>\n",
              "      <td>tt0003930</td>\n",
              "      <td>6.8</td>\n",
              "      <td>1344</td>\n",
              "      <td>Fantomas: The Mysterious Finger Print</td>\n",
              "      <td>None</td>\n",
              "    </tr>\n",
              "  </tbody>\n",
              "</table>\n",
              "</div>\n",
              "      <button class=\"colab-df-convert\" onclick=\"convertToInteractive('df-ae88c08f-60d1-4add-81b0-4de9a4ea737a')\"\n",
              "              title=\"Convert this dataframe to an interactive table.\"\n",
              "              style=\"display:none;\">\n",
              "        \n",
              "  <svg xmlns=\"http://www.w3.org/2000/svg\" height=\"24px\"viewBox=\"0 0 24 24\"\n",
              "       width=\"24px\">\n",
              "    <path d=\"M0 0h24v24H0V0z\" fill=\"none\"/>\n",
              "    <path d=\"M18.56 5.44l.94 2.06.94-2.06 2.06-.94-2.06-.94-.94-2.06-.94 2.06-2.06.94zm-11 1L8.5 8.5l.94-2.06 2.06-.94-2.06-.94L8.5 2.5l-.94 2.06-2.06.94zm10 10l.94 2.06.94-2.06 2.06-.94-2.06-.94-.94-2.06-.94 2.06-2.06.94z\"/><path d=\"M17.41 7.96l-1.37-1.37c-.4-.4-.92-.59-1.43-.59-.52 0-1.04.2-1.43.59L10.3 9.45l-7.72 7.72c-.78.78-.78 2.05 0 2.83L4 21.41c.39.39.9.59 1.41.59.51 0 1.02-.2 1.41-.59l7.78-7.78 2.81-2.81c.8-.78.8-2.07 0-2.86zM5.41 20L4 18.59l7.72-7.72 1.47 1.35L5.41 20z\"/>\n",
              "  </svg>\n",
              "      </button>\n",
              "      \n",
              "  <style>\n",
              "    .colab-df-container {\n",
              "      display:flex;\n",
              "      flex-wrap:wrap;\n",
              "      gap: 12px;\n",
              "    }\n",
              "\n",
              "    .colab-df-convert {\n",
              "      background-color: #E8F0FE;\n",
              "      border: none;\n",
              "      border-radius: 50%;\n",
              "      cursor: pointer;\n",
              "      display: none;\n",
              "      fill: #1967D2;\n",
              "      height: 32px;\n",
              "      padding: 0 0 0 0;\n",
              "      width: 32px;\n",
              "    }\n",
              "\n",
              "    .colab-df-convert:hover {\n",
              "      background-color: #E2EBFA;\n",
              "      box-shadow: 0px 1px 2px rgba(60, 64, 67, 0.3), 0px 1px 3px 1px rgba(60, 64, 67, 0.15);\n",
              "      fill: #174EA6;\n",
              "    }\n",
              "\n",
              "    [theme=dark] .colab-df-convert {\n",
              "      background-color: #3B4455;\n",
              "      fill: #D2E3FC;\n",
              "    }\n",
              "\n",
              "    [theme=dark] .colab-df-convert:hover {\n",
              "      background-color: #434B5C;\n",
              "      box-shadow: 0px 1px 3px 1px rgba(0, 0, 0, 0.15);\n",
              "      filter: drop-shadow(0px 1px 2px rgba(0, 0, 0, 0.3));\n",
              "      fill: #FFFFFF;\n",
              "    }\n",
              "  </style>\n",
              "\n",
              "      <script>\n",
              "        const buttonEl =\n",
              "          document.querySelector('#df-ae88c08f-60d1-4add-81b0-4de9a4ea737a button.colab-df-convert');\n",
              "        buttonEl.style.display =\n",
              "          google.colab.kernel.accessAllowed ? 'block' : 'none';\n",
              "\n",
              "        async function convertToInteractive(key) {\n",
              "          const element = document.querySelector('#df-ae88c08f-60d1-4add-81b0-4de9a4ea737a');\n",
              "          const dataTable =\n",
              "            await google.colab.kernel.invokeFunction('convertToInteractive',\n",
              "                                                     [key], {});\n",
              "          if (!dataTable) return;\n",
              "\n",
              "          const docLinkHtml = 'Like what you see? Visit the ' +\n",
              "            '<a target=\"_blank\" href=https://colab.research.google.com/notebooks/data_table.ipynb>data table notebook</a>'\n",
              "            + ' to learn more about interactive tables.';\n",
              "          element.innerHTML = '';\n",
              "          dataTable['output_type'] = 'display_data';\n",
              "          await google.colab.output.renderOutput(dataTable, element);\n",
              "          const docLink = document.createElement('div');\n",
              "          docLink.innerHTML = docLinkHtml;\n",
              "          element.appendChild(docLink);\n",
              "        }\n",
              "      </script>\n",
              "    </div>\n",
              "  </div>\n",
              "  "
            ]
          },
          "metadata": {},
          "execution_count": 12
        }
      ],
      "source": [
        "data=ratings_complete.merge(movie_plot)\n",
        "data.head(10)"
      ],
      "id": "581f2183"
    },
    {
      "cell_type": "markdown",
      "metadata": {
        "id": "abd93ec3"
      },
      "source": [
        "In order to run binary classification models we sort the ratings and add new column which indicates whether the rating for a movie is high or not. We decide to put high rating for ratings more or equal to 7."
      ],
      "id": "abd93ec3"
    },
    {
      "cell_type": "markdown",
      "metadata": {
        "id": "dcb155c5"
      },
      "source": [
        "Let's save our scraped data to csv for further analysis."
      ],
      "id": "dcb155c5"
    },
    {
      "cell_type": "code",
      "execution_count": 13,
      "metadata": {
        "id": "628f85b0"
      },
      "outputs": [],
      "source": [
        "data.to_csv('data.csv')"
      ],
      "id": "628f85b0"
    }
  ],
  "metadata": {
    "colab": {
      "provenance": []
    },
    "gpuClass": "standard",
    "kernelspec": {
      "display_name": "Python 3 (ipykernel)",
      "language": "python",
      "name": "python3"
    },
    "language_info": {
      "codemirror_mode": {
        "name": "ipython",
        "version": 3
      },
      "file_extension": ".py",
      "mimetype": "text/x-python",
      "name": "python",
      "nbconvert_exporter": "python",
      "pygments_lexer": "ipython3",
      "version": "3.8.5"
    }
  },
  "nbformat": 4,
  "nbformat_minor": 5
}