{
  "cells": [
    {
      "cell_type": "markdown",
      "metadata": {
        "id": "babb59d8"
      },
      "source": [
        "# Word analysis of movie plots: scraping wikipedia"
      ],
      "id": "babb59d8"
    },
    {
      "cell_type": "markdown",
      "metadata": {
        "id": "c156dff9"
      },
      "source": [
        "This is a pet project to master web scraping and natural language processing (NLP) techniques. The main research question is to find some patterns in the plot of highly rated movies.   "
      ],
      "id": "c156dff9"
    },
    {
      "cell_type": "code",
      "execution_count": 1,
      "metadata": {
        "id": "50852b47"
      },
      "outputs": [],
      "source": [
        "import pandas as pd\n",
        "from tqdm import tqdm\n",
        "import warnings\n",
        "warnings.filterwarnings(\"ignore\")"
      ],
      "id": "50852b47"
    },
    {
      "cell_type": "markdown",
      "metadata": {
        "id": "434e3e65"
      },
      "source": [
        "We use ratings from imbd website. IMBD post data on movies and their ratings given by the imdb website users https://datasets.imdbws.com/title.basics.tsv.gz"
      ],
      "id": "434e3e65"
    },
    {
      "cell_type": "code",
      "execution_count": 2,
      "metadata": {
        "id": "38d850ef"
      },
      "outputs": [],
      "source": [
        "names=pd.read_csv('https://datasets.imdbws.com/title.basics.tsv.gz', compression='gzip', header=0, sep=\"\\t\")"
      ],
      "id": "38d850ef"
    },
    {
      "cell_type": "markdown",
      "metadata": {
        "id": "91be6bcb"
      },
      "source": [
        "Then we filter only movies in order to shrink our data and avoid complications with loading plot from wikipedia"
      ],
      "id": "91be6bcb"
    },
    {
      "cell_type": "code",
      "execution_count": 3,
      "metadata": {
        "id": "894394db"
      },
      "outputs": [],
      "source": [
        "names_movies=names[names['titleType']=='movie']"
      ],
      "id": "894394db"
    },
    {
      "cell_type": "markdown",
      "metadata": {
        "id": "43433932"
      },
      "source": [
        "Only 2 columns are necessary - unique number of film on imbd and its title."
      ],
      "id": "43433932"
    },
    {
      "cell_type": "code",
      "execution_count": 4,
      "metadata": {
        "colab": {
          "base_uri": "https://localhost:8080/",
          "height": 206
        },
        "id": "aa00f1d6",
        "outputId": "2b4daad0-8866-420f-f6ea-a703dcf63542"
      },
      "outputs": [
        {
          "output_type": "execute_result",
          "data": {
            "text/plain": [
              "             tconst               primaryTitle\n",
              "5124999  tt19849810                     Flight\n",
              "265915    tt0277797                       Lena\n",
              "2324398  tt12445918  The Rivals of Amziah King\n",
              "53161     tt0054194           Policejní hodina\n",
              "416685    tt0434268        Papillon du vertige"
            ],
            "text/html": [
              "\n",
              "  <div id=\"df-f22f707f-1390-426a-890e-9cc385baaf08\">\n",
              "    <div class=\"colab-df-container\">\n",
              "      <div>\n",
              "<style scoped>\n",
              "    .dataframe tbody tr th:only-of-type {\n",
              "        vertical-align: middle;\n",
              "    }\n",
              "\n",
              "    .dataframe tbody tr th {\n",
              "        vertical-align: top;\n",
              "    }\n",
              "\n",
              "    .dataframe thead th {\n",
              "        text-align: right;\n",
              "    }\n",
              "</style>\n",
              "<table border=\"1\" class=\"dataframe\">\n",
              "  <thead>\n",
              "    <tr style=\"text-align: right;\">\n",
              "      <th></th>\n",
              "      <th>tconst</th>\n",
              "      <th>primaryTitle</th>\n",
              "    </tr>\n",
              "  </thead>\n",
              "  <tbody>\n",
              "    <tr>\n",
              "      <th>5124999</th>\n",
              "      <td>tt19849810</td>\n",
              "      <td>Flight</td>\n",
              "    </tr>\n",
              "    <tr>\n",
              "      <th>265915</th>\n",
              "      <td>tt0277797</td>\n",
              "      <td>Lena</td>\n",
              "    </tr>\n",
              "    <tr>\n",
              "      <th>2324398</th>\n",
              "      <td>tt12445918</td>\n",
              "      <td>The Rivals of Amziah King</td>\n",
              "    </tr>\n",
              "    <tr>\n",
              "      <th>53161</th>\n",
              "      <td>tt0054194</td>\n",
              "      <td>Policejní hodina</td>\n",
              "    </tr>\n",
              "    <tr>\n",
              "      <th>416685</th>\n",
              "      <td>tt0434268</td>\n",
              "      <td>Papillon du vertige</td>\n",
              "    </tr>\n",
              "  </tbody>\n",
              "</table>\n",
              "</div>\n",
              "      <button class=\"colab-df-convert\" onclick=\"convertToInteractive('df-f22f707f-1390-426a-890e-9cc385baaf08')\"\n",
              "              title=\"Convert this dataframe to an interactive table.\"\n",
              "              style=\"display:none;\">\n",
              "        \n",
              "  <svg xmlns=\"http://www.w3.org/2000/svg\" height=\"24px\"viewBox=\"0 0 24 24\"\n",
              "       width=\"24px\">\n",
              "    <path d=\"M0 0h24v24H0V0z\" fill=\"none\"/>\n",
              "    <path d=\"M18.56 5.44l.94 2.06.94-2.06 2.06-.94-2.06-.94-.94-2.06-.94 2.06-2.06.94zm-11 1L8.5 8.5l.94-2.06 2.06-.94-2.06-.94L8.5 2.5l-.94 2.06-2.06.94zm10 10l.94 2.06.94-2.06 2.06-.94-2.06-.94-.94-2.06-.94 2.06-2.06.94z\"/><path d=\"M17.41 7.96l-1.37-1.37c-.4-.4-.92-.59-1.43-.59-.52 0-1.04.2-1.43.59L10.3 9.45l-7.72 7.72c-.78.78-.78 2.05 0 2.83L4 21.41c.39.39.9.59 1.41.59.51 0 1.02-.2 1.41-.59l7.78-7.78 2.81-2.81c.8-.78.8-2.07 0-2.86zM5.41 20L4 18.59l7.72-7.72 1.47 1.35L5.41 20z\"/>\n",
              "  </svg>\n",
              "      </button>\n",
              "      \n",
              "  <style>\n",
              "    .colab-df-container {\n",
              "      display:flex;\n",
              "      flex-wrap:wrap;\n",
              "      gap: 12px;\n",
              "    }\n",
              "\n",
              "    .colab-df-convert {\n",
              "      background-color: #E8F0FE;\n",
              "      border: none;\n",
              "      border-radius: 50%;\n",
              "      cursor: pointer;\n",
              "      display: none;\n",
              "      fill: #1967D2;\n",
              "      height: 32px;\n",
              "      padding: 0 0 0 0;\n",
              "      width: 32px;\n",
              "    }\n",
              "\n",
              "    .colab-df-convert:hover {\n",
              "      background-color: #E2EBFA;\n",
              "      box-shadow: 0px 1px 2px rgba(60, 64, 67, 0.3), 0px 1px 3px 1px rgba(60, 64, 67, 0.15);\n",
              "      fill: #174EA6;\n",
              "    }\n",
              "\n",
              "    [theme=dark] .colab-df-convert {\n",
              "      background-color: #3B4455;\n",
              "      fill: #D2E3FC;\n",
              "    }\n",
              "\n",
              "    [theme=dark] .colab-df-convert:hover {\n",
              "      background-color: #434B5C;\n",
              "      box-shadow: 0px 1px 3px 1px rgba(0, 0, 0, 0.15);\n",
              "      filter: drop-shadow(0px 1px 2px rgba(0, 0, 0, 0.3));\n",
              "      fill: #FFFFFF;\n",
              "    }\n",
              "  </style>\n",
              "\n",
              "      <script>\n",
              "        const buttonEl =\n",
              "          document.querySelector('#df-f22f707f-1390-426a-890e-9cc385baaf08 button.colab-df-convert');\n",
              "        buttonEl.style.display =\n",
              "          google.colab.kernel.accessAllowed ? 'block' : 'none';\n",
              "\n",
              "        async function convertToInteractive(key) {\n",
              "          const element = document.querySelector('#df-f22f707f-1390-426a-890e-9cc385baaf08');\n",
              "          const dataTable =\n",
              "            await google.colab.kernel.invokeFunction('convertToInteractive',\n",
              "                                                     [key], {});\n",
              "          if (!dataTable) return;\n",
              "\n",
              "          const docLinkHtml = 'Like what you see? Visit the ' +\n",
              "            '<a target=\"_blank\" href=https://colab.research.google.com/notebooks/data_table.ipynb>data table notebook</a>'\n",
              "            + ' to learn more about interactive tables.';\n",
              "          element.innerHTML = '';\n",
              "          dataTable['output_type'] = 'display_data';\n",
              "          await google.colab.output.renderOutput(dataTable, element);\n",
              "          const docLink = document.createElement('div');\n",
              "          docLink.innerHTML = docLinkHtml;\n",
              "          element.appendChild(docLink);\n",
              "        }\n",
              "      </script>\n",
              "    </div>\n",
              "  </div>\n",
              "  "
            ]
          },
          "metadata": {},
          "execution_count": 4
        }
      ],
      "source": [
        "names_movies=names_movies[['tconst','primaryTitle']]\n",
        "names_movies.sample(5)"
      ],
      "id": "aa00f1d6"
    },
    {
      "cell_type": "markdown",
      "metadata": {
        "id": "9b34a6f6"
      },
      "source": [
        "Another file from imbd contains data on the ratings and number of votes by movie https://datasets.imdbws.com/title.ratings.tsv.gz"
      ],
      "id": "9b34a6f6"
    },
    {
      "cell_type": "code",
      "execution_count": 5,
      "metadata": {
        "id": "efc2bb78"
      },
      "outputs": [],
      "source": [
        "ratings=pd.read_csv('https://datasets.imdbws.com/title.ratings.tsv.gz', compression='gzip', header=0, sep=\"\\t\")"
      ],
      "id": "efc2bb78"
    },
    {
      "cell_type": "markdown",
      "metadata": {
        "id": "ce88ba54"
      },
      "source": [
        "We can now merge to dataframes to get a table with ratings, votes and titles."
      ],
      "id": "ce88ba54"
    },
    {
      "cell_type": "code",
      "execution_count": 6,
      "metadata": {
        "colab": {
          "base_uri": "https://localhost:8080/",
          "height": 206
        },
        "id": "0379c7e8",
        "outputId": "d1e2322d-a41d-4197-844f-a68190d52921"
      },
      "outputs": [
        {
          "output_type": "execute_result",
          "data": {
            "text/plain": [
              "           tconst  averageRating  numVotes                       primaryTitle\n",
              "196159  tt1834889            7.4        19      The Instant Messenger Mission\n",
              "42862   tt0079570            6.8       111                  No More Easy Life\n",
              "157039  tt1156075            6.9        86  Soeur Innocenta, priez pour nous!\n",
              "258403  tt6265620            6.1       142          I Miss You When I See You\n",
              "103076  tt0270674            6.6         8     Street Love - Amor de la calle"
            ],
            "text/html": [
              "\n",
              "  <div id=\"df-f66a8e84-b92e-48be-be68-16e54a56ddc9\">\n",
              "    <div class=\"colab-df-container\">\n",
              "      <div>\n",
              "<style scoped>\n",
              "    .dataframe tbody tr th:only-of-type {\n",
              "        vertical-align: middle;\n",
              "    }\n",
              "\n",
              "    .dataframe tbody tr th {\n",
              "        vertical-align: top;\n",
              "    }\n",
              "\n",
              "    .dataframe thead th {\n",
              "        text-align: right;\n",
              "    }\n",
              "</style>\n",
              "<table border=\"1\" class=\"dataframe\">\n",
              "  <thead>\n",
              "    <tr style=\"text-align: right;\">\n",
              "      <th></th>\n",
              "      <th>tconst</th>\n",
              "      <th>averageRating</th>\n",
              "      <th>numVotes</th>\n",
              "      <th>primaryTitle</th>\n",
              "    </tr>\n",
              "  </thead>\n",
              "  <tbody>\n",
              "    <tr>\n",
              "      <th>196159</th>\n",
              "      <td>tt1834889</td>\n",
              "      <td>7.4</td>\n",
              "      <td>19</td>\n",
              "      <td>The Instant Messenger Mission</td>\n",
              "    </tr>\n",
              "    <tr>\n",
              "      <th>42862</th>\n",
              "      <td>tt0079570</td>\n",
              "      <td>6.8</td>\n",
              "      <td>111</td>\n",
              "      <td>No More Easy Life</td>\n",
              "    </tr>\n",
              "    <tr>\n",
              "      <th>157039</th>\n",
              "      <td>tt1156075</td>\n",
              "      <td>6.9</td>\n",
              "      <td>86</td>\n",
              "      <td>Soeur Innocenta, priez pour nous!</td>\n",
              "    </tr>\n",
              "    <tr>\n",
              "      <th>258403</th>\n",
              "      <td>tt6265620</td>\n",
              "      <td>6.1</td>\n",
              "      <td>142</td>\n",
              "      <td>I Miss You When I See You</td>\n",
              "    </tr>\n",
              "    <tr>\n",
              "      <th>103076</th>\n",
              "      <td>tt0270674</td>\n",
              "      <td>6.6</td>\n",
              "      <td>8</td>\n",
              "      <td>Street Love - Amor de la calle</td>\n",
              "    </tr>\n",
              "  </tbody>\n",
              "</table>\n",
              "</div>\n",
              "      <button class=\"colab-df-convert\" onclick=\"convertToInteractive('df-f66a8e84-b92e-48be-be68-16e54a56ddc9')\"\n",
              "              title=\"Convert this dataframe to an interactive table.\"\n",
              "              style=\"display:none;\">\n",
              "        \n",
              "  <svg xmlns=\"http://www.w3.org/2000/svg\" height=\"24px\"viewBox=\"0 0 24 24\"\n",
              "       width=\"24px\">\n",
              "    <path d=\"M0 0h24v24H0V0z\" fill=\"none\"/>\n",
              "    <path d=\"M18.56 5.44l.94 2.06.94-2.06 2.06-.94-2.06-.94-.94-2.06-.94 2.06-2.06.94zm-11 1L8.5 8.5l.94-2.06 2.06-.94-2.06-.94L8.5 2.5l-.94 2.06-2.06.94zm10 10l.94 2.06.94-2.06 2.06-.94-2.06-.94-.94-2.06-.94 2.06-2.06.94z\"/><path d=\"M17.41 7.96l-1.37-1.37c-.4-.4-.92-.59-1.43-.59-.52 0-1.04.2-1.43.59L10.3 9.45l-7.72 7.72c-.78.78-.78 2.05 0 2.83L4 21.41c.39.39.9.59 1.41.59.51 0 1.02-.2 1.41-.59l7.78-7.78 2.81-2.81c.8-.78.8-2.07 0-2.86zM5.41 20L4 18.59l7.72-7.72 1.47 1.35L5.41 20z\"/>\n",
              "  </svg>\n",
              "      </button>\n",
              "      \n",
              "  <style>\n",
              "    .colab-df-container {\n",
              "      display:flex;\n",
              "      flex-wrap:wrap;\n",
              "      gap: 12px;\n",
              "    }\n",
              "\n",
              "    .colab-df-convert {\n",
              "      background-color: #E8F0FE;\n",
              "      border: none;\n",
              "      border-radius: 50%;\n",
              "      cursor: pointer;\n",
              "      display: none;\n",
              "      fill: #1967D2;\n",
              "      height: 32px;\n",
              "      padding: 0 0 0 0;\n",
              "      width: 32px;\n",
              "    }\n",
              "\n",
              "    .colab-df-convert:hover {\n",
              "      background-color: #E2EBFA;\n",
              "      box-shadow: 0px 1px 2px rgba(60, 64, 67, 0.3), 0px 1px 3px 1px rgba(60, 64, 67, 0.15);\n",
              "      fill: #174EA6;\n",
              "    }\n",
              "\n",
              "    [theme=dark] .colab-df-convert {\n",
              "      background-color: #3B4455;\n",
              "      fill: #D2E3FC;\n",
              "    }\n",
              "\n",
              "    [theme=dark] .colab-df-convert:hover {\n",
              "      background-color: #434B5C;\n",
              "      box-shadow: 0px 1px 3px 1px rgba(0, 0, 0, 0.15);\n",
              "      filter: drop-shadow(0px 1px 2px rgba(0, 0, 0, 0.3));\n",
              "      fill: #FFFFFF;\n",
              "    }\n",
              "  </style>\n",
              "\n",
              "      <script>\n",
              "        const buttonEl =\n",
              "          document.querySelector('#df-f66a8e84-b92e-48be-be68-16e54a56ddc9 button.colab-df-convert');\n",
              "        buttonEl.style.display =\n",
              "          google.colab.kernel.accessAllowed ? 'block' : 'none';\n",
              "\n",
              "        async function convertToInteractive(key) {\n",
              "          const element = document.querySelector('#df-f66a8e84-b92e-48be-be68-16e54a56ddc9');\n",
              "          const dataTable =\n",
              "            await google.colab.kernel.invokeFunction('convertToInteractive',\n",
              "                                                     [key], {});\n",
              "          if (!dataTable) return;\n",
              "\n",
              "          const docLinkHtml = 'Like what you see? Visit the ' +\n",
              "            '<a target=\"_blank\" href=https://colab.research.google.com/notebooks/data_table.ipynb>data table notebook</a>'\n",
              "            + ' to learn more about interactive tables.';\n",
              "          element.innerHTML = '';\n",
              "          dataTable['output_type'] = 'display_data';\n",
              "          await google.colab.output.renderOutput(dataTable, element);\n",
              "          const docLink = document.createElement('div');\n",
              "          docLink.innerHTML = docLinkHtml;\n",
              "          element.appendChild(docLink);\n",
              "        }\n",
              "      </script>\n",
              "    </div>\n",
              "  </div>\n",
              "  "
            ]
          },
          "metadata": {},
          "execution_count": 6
        }
      ],
      "source": [
        "ratings_complete=ratings.merge(names_movies)\n",
        "ratings_complete.sample(5)"
      ],
      "id": "0379c7e8"
    },
    {
      "cell_type": "markdown",
      "metadata": {
        "id": "ed08cb13"
      },
      "source": [
        "As there are many films which are not rated by many people, it would be a good option to filter table by number of votes - if more than 50 thousand people voted then we take the movie for analysis."
      ],
      "id": "ed08cb13"
    },
    {
      "cell_type": "code",
      "execution_count": 7,
      "metadata": {
        "colab": {
          "base_uri": "https://localhost:8080/"
        },
        "id": "e2cc236f",
        "outputId": "e00edf02-10f6-4669-e679-3215a9981e99"
      },
      "outputs": [
        {
          "output_type": "execute_result",
          "data": {
            "text/plain": [
              "(3825, 4)"
            ]
          },
          "metadata": {},
          "execution_count": 7
        }
      ],
      "source": [
        "ratings_popular=ratings_complete[ratings_complete['numVotes']>50000]\n",
        "ratings_popular.shape"
      ],
      "id": "e2cc236f"
    },
    {
      "cell_type": "markdown",
      "metadata": {
        "id": "a8f7ec3e"
      },
      "source": [
        "3824 movies is a good amount for our analysis. We expect this number to reduce as we start looking for the plot description from wikipedia."
      ],
      "id": "a8f7ec3e"
    },
    {
      "cell_type": "markdown",
      "metadata": {
        "id": "5a873501"
      },
      "source": [
        "## Loading plots from wikipedia"
      ],
      "id": "5a873501"
    },
    {
      "cell_type": "code",
      "execution_count": 8,
      "metadata": {
        "colab": {
          "base_uri": "https://localhost:8080/"
        },
        "id": "12N81LWrUOTo",
        "outputId": "abfd9619-131f-4532-9a23-708637e7ce45"
      },
      "outputs": [
        {
          "output_type": "stream",
          "name": "stdout",
          "text": [
            "Looking in indexes: https://pypi.org/simple, https://us-python.pkg.dev/colab-wheels/public/simple/\n",
            "Collecting wikipedia\n",
            "  Downloading wikipedia-1.4.0.tar.gz (27 kB)\n",
            "Requirement already satisfied: beautifulsoup4 in /usr/local/lib/python3.7/dist-packages (from wikipedia) (4.6.3)\n",
            "Requirement already satisfied: requests<3.0.0,>=2.0.0 in /usr/local/lib/python3.7/dist-packages (from wikipedia) (2.23.0)\n",
            "Requirement already satisfied: chardet<4,>=3.0.2 in /usr/local/lib/python3.7/dist-packages (from requests<3.0.0,>=2.0.0->wikipedia) (3.0.4)\n",
            "Requirement already satisfied: urllib3!=1.25.0,!=1.25.1,<1.26,>=1.21.1 in /usr/local/lib/python3.7/dist-packages (from requests<3.0.0,>=2.0.0->wikipedia) (1.24.3)\n",
            "Requirement already satisfied: idna<3,>=2.5 in /usr/local/lib/python3.7/dist-packages (from requests<3.0.0,>=2.0.0->wikipedia) (2.10)\n",
            "Requirement already satisfied: certifi>=2017.4.17 in /usr/local/lib/python3.7/dist-packages (from requests<3.0.0,>=2.0.0->wikipedia) (2022.9.24)\n",
            "Building wheels for collected packages: wikipedia\n",
            "  Building wheel for wikipedia (setup.py) ... \u001b[?25l\u001b[?25hdone\n",
            "  Created wheel for wikipedia: filename=wikipedia-1.4.0-py3-none-any.whl size=11696 sha256=da4a70ed5183af0af3b39c9ebf8f275710bee45fe643d18f9ab8ebb3efd9c423\n",
            "  Stored in directory: /root/.cache/pip/wheels/15/93/6d/5b2c68b8a64c7a7a04947b4ed6d89fb557dcc6bc27d1d7f3ba\n",
            "Successfully built wikipedia\n",
            "Installing collected packages: wikipedia\n",
            "Successfully installed wikipedia-1.4.0\n"
          ]
        }
      ],
      "source": [
        "pip install wikipedia"
      ],
      "id": "12N81LWrUOTo"
    },
    {
      "cell_type": "code",
      "execution_count": 9,
      "metadata": {
        "id": "2042a3c5"
      },
      "outputs": [],
      "source": [
        "import wikipedia"
      ],
      "id": "2042a3c5"
    },
    {
      "cell_type": "markdown",
      "metadata": {
        "id": "d0c10803"
      },
      "source": [
        "We will write the function which searches the film title from wikipedia and add the plot to the dataframe if there is such chapter in an article \"Plot\"."
      ],
      "id": "d0c10803"
    },
    {
      "cell_type": "code",
      "execution_count": 10,
      "metadata": {
        "id": "5d66f3dc"
      },
      "outputs": [],
      "source": [
        "def plot_wiki(df, i):\n",
        "    try:\n",
        "        wiki_page = wikipedia.page(df.iloc[i]['primaryTitle'])\n",
        "        if wiki_page.content.find('Plot ==\\n')>0:\n",
        "            start=wiki_page.content.find('Plot ==\\n')+8\n",
        "            end=wiki_page.content.find('\\n\\n\\n', start)\n",
        "            content=wiki_page.content[start:end].replace('\\n', '').replace('\\'','')\n",
        "        return df.iloc[i]['tconst'], content\n",
        "    except:\n",
        "        return df.iloc[i]['tconst'], None"
      ],
      "id": "5d66f3dc"
    },
    {
      "cell_type": "markdown",
      "metadata": {
        "id": "7790743b"
      },
      "source": [
        "We form the database with plot description. As there are many movies it takes some time to load all the data."
      ],
      "id": "7790743b"
    },
    {
      "cell_type": "code",
      "execution_count": 11,
      "metadata": {
        "colab": {
          "base_uri": "https://localhost:8080/",
          "height": 223
        },
        "id": "54c8dd8a",
        "outputId": "d29e6954-e095-4947-b041-fefef2183332"
      },
      "outputs": [
        {
          "output_type": "stream",
          "name": "stderr",
          "text": [
            "100%|██████████| 3825/3825 [48:37<00:00,  1.31it/s]\n"
          ]
        },
        {
          "output_type": "execute_result",
          "data": {
            "text/plain": [
              "                                                plot     tconst\n",
              "0  In what appears to be a park, Francis sits on ...  tt0010323\n",
              "1                                               None  tt0012349\n",
              "2  In 1838, in the fictional German town of Wisbo...  tt0013442\n",
              "3  Buster is a movie theater projectionist and ja...  tt0015324\n",
              "4  The film is set in June 1905; the protagonists...  tt0015648"
            ],
            "text/html": [
              "\n",
              "  <div id=\"df-617b466f-2651-4358-bf00-9d42d95615eb\">\n",
              "    <div class=\"colab-df-container\">\n",
              "      <div>\n",
              "<style scoped>\n",
              "    .dataframe tbody tr th:only-of-type {\n",
              "        vertical-align: middle;\n",
              "    }\n",
              "\n",
              "    .dataframe tbody tr th {\n",
              "        vertical-align: top;\n",
              "    }\n",
              "\n",
              "    .dataframe thead th {\n",
              "        text-align: right;\n",
              "    }\n",
              "</style>\n",
              "<table border=\"1\" class=\"dataframe\">\n",
              "  <thead>\n",
              "    <tr style=\"text-align: right;\">\n",
              "      <th></th>\n",
              "      <th>plot</th>\n",
              "      <th>tconst</th>\n",
              "    </tr>\n",
              "  </thead>\n",
              "  <tbody>\n",
              "    <tr>\n",
              "      <th>0</th>\n",
              "      <td>In what appears to be a park, Francis sits on ...</td>\n",
              "      <td>tt0010323</td>\n",
              "    </tr>\n",
              "    <tr>\n",
              "      <th>1</th>\n",
              "      <td>None</td>\n",
              "      <td>tt0012349</td>\n",
              "    </tr>\n",
              "    <tr>\n",
              "      <th>2</th>\n",
              "      <td>In 1838, in the fictional German town of Wisbo...</td>\n",
              "      <td>tt0013442</td>\n",
              "    </tr>\n",
              "    <tr>\n",
              "      <th>3</th>\n",
              "      <td>Buster is a movie theater projectionist and ja...</td>\n",
              "      <td>tt0015324</td>\n",
              "    </tr>\n",
              "    <tr>\n",
              "      <th>4</th>\n",
              "      <td>The film is set in June 1905; the protagonists...</td>\n",
              "      <td>tt0015648</td>\n",
              "    </tr>\n",
              "  </tbody>\n",
              "</table>\n",
              "</div>\n",
              "      <button class=\"colab-df-convert\" onclick=\"convertToInteractive('df-617b466f-2651-4358-bf00-9d42d95615eb')\"\n",
              "              title=\"Convert this dataframe to an interactive table.\"\n",
              "              style=\"display:none;\">\n",
              "        \n",
              "  <svg xmlns=\"http://www.w3.org/2000/svg\" height=\"24px\"viewBox=\"0 0 24 24\"\n",
              "       width=\"24px\">\n",
              "    <path d=\"M0 0h24v24H0V0z\" fill=\"none\"/>\n",
              "    <path d=\"M18.56 5.44l.94 2.06.94-2.06 2.06-.94-2.06-.94-.94-2.06-.94 2.06-2.06.94zm-11 1L8.5 8.5l.94-2.06 2.06-.94-2.06-.94L8.5 2.5l-.94 2.06-2.06.94zm10 10l.94 2.06.94-2.06 2.06-.94-2.06-.94-.94-2.06-.94 2.06-2.06.94z\"/><path d=\"M17.41 7.96l-1.37-1.37c-.4-.4-.92-.59-1.43-.59-.52 0-1.04.2-1.43.59L10.3 9.45l-7.72 7.72c-.78.78-.78 2.05 0 2.83L4 21.41c.39.39.9.59 1.41.59.51 0 1.02-.2 1.41-.59l7.78-7.78 2.81-2.81c.8-.78.8-2.07 0-2.86zM5.41 20L4 18.59l7.72-7.72 1.47 1.35L5.41 20z\"/>\n",
              "  </svg>\n",
              "      </button>\n",
              "      \n",
              "  <style>\n",
              "    .colab-df-container {\n",
              "      display:flex;\n",
              "      flex-wrap:wrap;\n",
              "      gap: 12px;\n",
              "    }\n",
              "\n",
              "    .colab-df-convert {\n",
              "      background-color: #E8F0FE;\n",
              "      border: none;\n",
              "      border-radius: 50%;\n",
              "      cursor: pointer;\n",
              "      display: none;\n",
              "      fill: #1967D2;\n",
              "      height: 32px;\n",
              "      padding: 0 0 0 0;\n",
              "      width: 32px;\n",
              "    }\n",
              "\n",
              "    .colab-df-convert:hover {\n",
              "      background-color: #E2EBFA;\n",
              "      box-shadow: 0px 1px 2px rgba(60, 64, 67, 0.3), 0px 1px 3px 1px rgba(60, 64, 67, 0.15);\n",
              "      fill: #174EA6;\n",
              "    }\n",
              "\n",
              "    [theme=dark] .colab-df-convert {\n",
              "      background-color: #3B4455;\n",
              "      fill: #D2E3FC;\n",
              "    }\n",
              "\n",
              "    [theme=dark] .colab-df-convert:hover {\n",
              "      background-color: #434B5C;\n",
              "      box-shadow: 0px 1px 3px 1px rgba(0, 0, 0, 0.15);\n",
              "      filter: drop-shadow(0px 1px 2px rgba(0, 0, 0, 0.3));\n",
              "      fill: #FFFFFF;\n",
              "    }\n",
              "  </style>\n",
              "\n",
              "      <script>\n",
              "        const buttonEl =\n",
              "          document.querySelector('#df-617b466f-2651-4358-bf00-9d42d95615eb button.colab-df-convert');\n",
              "        buttonEl.style.display =\n",
              "          google.colab.kernel.accessAllowed ? 'block' : 'none';\n",
              "\n",
              "        async function convertToInteractive(key) {\n",
              "          const element = document.querySelector('#df-617b466f-2651-4358-bf00-9d42d95615eb');\n",
              "          const dataTable =\n",
              "            await google.colab.kernel.invokeFunction('convertToInteractive',\n",
              "                                                     [key], {});\n",
              "          if (!dataTable) return;\n",
              "\n",
              "          const docLinkHtml = 'Like what you see? Visit the ' +\n",
              "            '<a target=\"_blank\" href=https://colab.research.google.com/notebooks/data_table.ipynb>data table notebook</a>'\n",
              "            + ' to learn more about interactive tables.';\n",
              "          element.innerHTML = '';\n",
              "          dataTable['output_type'] = 'display_data';\n",
              "          await google.colab.output.renderOutput(dataTable, element);\n",
              "          const docLink = document.createElement('div');\n",
              "          docLink.innerHTML = docLinkHtml;\n",
              "          element.appendChild(docLink);\n",
              "        }\n",
              "      </script>\n",
              "    </div>\n",
              "  </div>\n",
              "  "
            ]
          },
          "metadata": {},
          "execution_count": 11
        }
      ],
      "source": [
        "movie_plot=pd.DataFrame(columns={'tconst', 'plot'})\n",
        "for i in tqdm(range(len(ratings_popular))):\n",
        "  tconst, content = plot_wiki(ratings_popular, i)\n",
        "  movie_plot = movie_plot.append({'tconst':tconst,'plot':content}, ignore_index=True)\n",
        "movie_plot.head()\n"
      ],
      "id": "54c8dd8a"
    },
    {
      "cell_type": "markdown",
      "metadata": {
        "id": "e56b9070"
      },
      "source": [
        "Merging the plots we find with the dataframe from imbd"
      ],
      "id": "e56b9070"
    },
    {
      "cell_type": "code",
      "execution_count": 12,
      "metadata": {
        "id": "ef4b1480"
      },
      "outputs": [],
      "source": [
        "data=ratings_complete.merge(movie_plot)"
      ],
      "id": "ef4b1480"
    },
    {
      "cell_type": "markdown",
      "metadata": {
        "id": "69b40e71"
      },
      "source": [
        "In order to run logistic regression we sort the values and add new column which indicates whether the rating for a movie is high or not. We decide to put high rating for ratings more or equal to 7."
      ],
      "id": "69b40e71"
    },
    {
      "cell_type": "code",
      "execution_count": 13,
      "metadata": {
        "colab": {
          "base_uri": "https://localhost:8080/",
          "height": 206
        },
        "id": "a7c967af",
        "outputId": "7b126896-f0e8-4042-8043-f38b107e57e5",
        "scrolled": true
      },
      "outputs": [
        {
          "output_type": "execute_result",
          "data": {
            "text/plain": [
              "      tconst  averageRating  numVotes                 primaryTitle  \\\n",
              "0  tt0010323            8.0     64516  The Cabinet of Dr. Caligari   \n",
              "1  tt0012349            8.3    126789                      The Kid   \n",
              "2  tt0013442            7.9     98252                    Nosferatu   \n",
              "3  tt0015324            8.2     50390                 Sherlock Jr.   \n",
              "4  tt0015648            7.9     58131          Battleship Potemkin   \n",
              "\n",
              "                                                plot  rating  \n",
              "0  In what appears to be a park, Francis sits on ...       1  \n",
              "1                                               None       1  \n",
              "2  In 1838, in the fictional German town of Wisbo...       1  \n",
              "3  Buster is a movie theater projectionist and ja...       1  \n",
              "4  The film is set in June 1905; the protagonists...       1  "
            ],
            "text/html": [
              "\n",
              "  <div id=\"df-5ef337a5-d3dc-4c02-904f-8a33152f9595\">\n",
              "    <div class=\"colab-df-container\">\n",
              "      <div>\n",
              "<style scoped>\n",
              "    .dataframe tbody tr th:only-of-type {\n",
              "        vertical-align: middle;\n",
              "    }\n",
              "\n",
              "    .dataframe tbody tr th {\n",
              "        vertical-align: top;\n",
              "    }\n",
              "\n",
              "    .dataframe thead th {\n",
              "        text-align: right;\n",
              "    }\n",
              "</style>\n",
              "<table border=\"1\" class=\"dataframe\">\n",
              "  <thead>\n",
              "    <tr style=\"text-align: right;\">\n",
              "      <th></th>\n",
              "      <th>tconst</th>\n",
              "      <th>averageRating</th>\n",
              "      <th>numVotes</th>\n",
              "      <th>primaryTitle</th>\n",
              "      <th>plot</th>\n",
              "      <th>rating</th>\n",
              "    </tr>\n",
              "  </thead>\n",
              "  <tbody>\n",
              "    <tr>\n",
              "      <th>0</th>\n",
              "      <td>tt0010323</td>\n",
              "      <td>8.0</td>\n",
              "      <td>64516</td>\n",
              "      <td>The Cabinet of Dr. Caligari</td>\n",
              "      <td>In what appears to be a park, Francis sits on ...</td>\n",
              "      <td>1</td>\n",
              "    </tr>\n",
              "    <tr>\n",
              "      <th>1</th>\n",
              "      <td>tt0012349</td>\n",
              "      <td>8.3</td>\n",
              "      <td>126789</td>\n",
              "      <td>The Kid</td>\n",
              "      <td>None</td>\n",
              "      <td>1</td>\n",
              "    </tr>\n",
              "    <tr>\n",
              "      <th>2</th>\n",
              "      <td>tt0013442</td>\n",
              "      <td>7.9</td>\n",
              "      <td>98252</td>\n",
              "      <td>Nosferatu</td>\n",
              "      <td>In 1838, in the fictional German town of Wisbo...</td>\n",
              "      <td>1</td>\n",
              "    </tr>\n",
              "    <tr>\n",
              "      <th>3</th>\n",
              "      <td>tt0015324</td>\n",
              "      <td>8.2</td>\n",
              "      <td>50390</td>\n",
              "      <td>Sherlock Jr.</td>\n",
              "      <td>Buster is a movie theater projectionist and ja...</td>\n",
              "      <td>1</td>\n",
              "    </tr>\n",
              "    <tr>\n",
              "      <th>4</th>\n",
              "      <td>tt0015648</td>\n",
              "      <td>7.9</td>\n",
              "      <td>58131</td>\n",
              "      <td>Battleship Potemkin</td>\n",
              "      <td>The film is set in June 1905; the protagonists...</td>\n",
              "      <td>1</td>\n",
              "    </tr>\n",
              "  </tbody>\n",
              "</table>\n",
              "</div>\n",
              "      <button class=\"colab-df-convert\" onclick=\"convertToInteractive('df-5ef337a5-d3dc-4c02-904f-8a33152f9595')\"\n",
              "              title=\"Convert this dataframe to an interactive table.\"\n",
              "              style=\"display:none;\">\n",
              "        \n",
              "  <svg xmlns=\"http://www.w3.org/2000/svg\" height=\"24px\"viewBox=\"0 0 24 24\"\n",
              "       width=\"24px\">\n",
              "    <path d=\"M0 0h24v24H0V0z\" fill=\"none\"/>\n",
              "    <path d=\"M18.56 5.44l.94 2.06.94-2.06 2.06-.94-2.06-.94-.94-2.06-.94 2.06-2.06.94zm-11 1L8.5 8.5l.94-2.06 2.06-.94-2.06-.94L8.5 2.5l-.94 2.06-2.06.94zm10 10l.94 2.06.94-2.06 2.06-.94-2.06-.94-.94-2.06-.94 2.06-2.06.94z\"/><path d=\"M17.41 7.96l-1.37-1.37c-.4-.4-.92-.59-1.43-.59-.52 0-1.04.2-1.43.59L10.3 9.45l-7.72 7.72c-.78.78-.78 2.05 0 2.83L4 21.41c.39.39.9.59 1.41.59.51 0 1.02-.2 1.41-.59l7.78-7.78 2.81-2.81c.8-.78.8-2.07 0-2.86zM5.41 20L4 18.59l7.72-7.72 1.47 1.35L5.41 20z\"/>\n",
              "  </svg>\n",
              "      </button>\n",
              "      \n",
              "  <style>\n",
              "    .colab-df-container {\n",
              "      display:flex;\n",
              "      flex-wrap:wrap;\n",
              "      gap: 12px;\n",
              "    }\n",
              "\n",
              "    .colab-df-convert {\n",
              "      background-color: #E8F0FE;\n",
              "      border: none;\n",
              "      border-radius: 50%;\n",
              "      cursor: pointer;\n",
              "      display: none;\n",
              "      fill: #1967D2;\n",
              "      height: 32px;\n",
              "      padding: 0 0 0 0;\n",
              "      width: 32px;\n",
              "    }\n",
              "\n",
              "    .colab-df-convert:hover {\n",
              "      background-color: #E2EBFA;\n",
              "      box-shadow: 0px 1px 2px rgba(60, 64, 67, 0.3), 0px 1px 3px 1px rgba(60, 64, 67, 0.15);\n",
              "      fill: #174EA6;\n",
              "    }\n",
              "\n",
              "    [theme=dark] .colab-df-convert {\n",
              "      background-color: #3B4455;\n",
              "      fill: #D2E3FC;\n",
              "    }\n",
              "\n",
              "    [theme=dark] .colab-df-convert:hover {\n",
              "      background-color: #434B5C;\n",
              "      box-shadow: 0px 1px 3px 1px rgba(0, 0, 0, 0.15);\n",
              "      filter: drop-shadow(0px 1px 2px rgba(0, 0, 0, 0.3));\n",
              "      fill: #FFFFFF;\n",
              "    }\n",
              "  </style>\n",
              "\n",
              "      <script>\n",
              "        const buttonEl =\n",
              "          document.querySelector('#df-5ef337a5-d3dc-4c02-904f-8a33152f9595 button.colab-df-convert');\n",
              "        buttonEl.style.display =\n",
              "          google.colab.kernel.accessAllowed ? 'block' : 'none';\n",
              "\n",
              "        async function convertToInteractive(key) {\n",
              "          const element = document.querySelector('#df-5ef337a5-d3dc-4c02-904f-8a33152f9595');\n",
              "          const dataTable =\n",
              "            await google.colab.kernel.invokeFunction('convertToInteractive',\n",
              "                                                     [key], {});\n",
              "          if (!dataTable) return;\n",
              "\n",
              "          const docLinkHtml = 'Like what you see? Visit the ' +\n",
              "            '<a target=\"_blank\" href=https://colab.research.google.com/notebooks/data_table.ipynb>data table notebook</a>'\n",
              "            + ' to learn more about interactive tables.';\n",
              "          element.innerHTML = '';\n",
              "          dataTable['output_type'] = 'display_data';\n",
              "          await google.colab.output.renderOutput(dataTable, element);\n",
              "          const docLink = document.createElement('div');\n",
              "          docLink.innerHTML = docLinkHtml;\n",
              "          element.appendChild(docLink);\n",
              "        }\n",
              "      </script>\n",
              "    </div>\n",
              "  </div>\n",
              "  "
            ]
          },
          "metadata": {},
          "execution_count": 13
        }
      ],
      "source": [
        "data['rating']=[1 if x >= 7 else 0 for x in data['averageRating']]\n",
        "data.head()"
      ],
      "id": "a7c967af"
    },
    {
      "cell_type": "markdown",
      "metadata": {
        "id": "dbae4d34"
      },
      "source": [
        "Let's save our scraped data to csv for further analysis."
      ],
      "id": "dbae4d34"
    },
    {
      "cell_type": "code",
      "execution_count": 14,
      "metadata": {
        "id": "e77f9a43"
      },
      "outputs": [],
      "source": [
        "data.to_csv('data.csv')"
      ],
      "id": "e77f9a43"
    }
  ],
  "metadata": {
    "accelerator": "GPU",
    "colab": {
      "provenance": []
    },
    "gpuClass": "standard",
    "kernelspec": {
      "display_name": "Python 3 (ipykernel)",
      "language": "python",
      "name": "python3"
    },
    "language_info": {
      "codemirror_mode": {
        "name": "ipython",
        "version": 3
      },
      "file_extension": ".py",
      "mimetype": "text/x-python",
      "name": "python",
      "nbconvert_exporter": "python",
      "pygments_lexer": "ipython3",
      "version": "3.8.5"
    }
  },
  "nbformat": 4,
  "nbformat_minor": 5
}