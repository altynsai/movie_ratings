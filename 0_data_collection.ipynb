{
 "cells": [
  {
   "cell_type": "markdown",
   "id": "70ddbe79",
   "metadata": {
    "id": "babb59d8"
   },
   "source": [
    "# NLP analysis of movie plots: scraping wikipedia"
   ]
  },
  {
   "cell_type": "markdown",
   "id": "71b72897",
   "metadata": {
    "id": "c156dff9"
   },
   "source": [
    "This is a pet project to master web scraping and natural language processing (NLP) techniques. The main research question is to find some patterns in the plot of highly rated movies."
   ]
  },
  {
   "cell_type": "code",
   "execution_count": 1,
   "id": "2936002d",
   "metadata": {
    "id": "50852b47"
   },
   "outputs": [],
   "source": [
    "import pandas as pd\n",
    "from tqdm import tqdm\n",
    "import warnings\n",
    "warnings.filterwarnings(\"ignore\")"
   ]
  },
  {
   "cell_type": "markdown",
   "id": "98fbf0ae",
   "metadata": {
    "id": "434e3e65"
   },
   "source": [
    "We use ratings from IMBD website. IMBD post data on movies and their ratings given by the its website users."
   ]
  },
  {
   "cell_type": "code",
   "execution_count": 2,
   "id": "1d30c78d",
   "metadata": {
    "id": "38d850ef"
   },
   "outputs": [],
   "source": [
    "names=pd.read_csv('https://datasets.imdbws.com/title.basics.tsv.gz', compression='gzip', header=0, sep=\"\\t\")"
   ]
  },
  {
   "cell_type": "markdown",
   "id": "733c90af",
   "metadata": {
    "id": "91be6bcb"
   },
   "source": [
    "Then we filter only movies (removing series) in order to shrink our data and avoid complications with loading plot from wikipedia"
   ]
  },
  {
   "cell_type": "code",
   "execution_count": 3,
   "id": "94fff150",
   "metadata": {
    "id": "894394db"
   },
   "outputs": [],
   "source": [
    "names_movies=names[names['titleType']=='movie']"
   ]
  },
  {
   "cell_type": "markdown",
   "id": "2a3734d0",
   "metadata": {
    "id": "43433932"
   },
   "source": [
    "Only 2 columns are necessary - unique number of film on imbd and its title."
   ]
  },
  {
   "cell_type": "code",
   "execution_count": 4,
   "id": "7d3ebabf",
   "metadata": {
    "colab": {
     "base_uri": "https://localhost:8080/",
     "height": 206
    },
    "id": "aa00f1d6",
    "outputId": "2b4daad0-8866-420f-f6ea-a703dcf63542"
   },
   "outputs": [
    {
     "data": {
      "text/html": [
       "<div>\n",
       "<style scoped>\n",
       "    .dataframe tbody tr th:only-of-type {\n",
       "        vertical-align: middle;\n",
       "    }\n",
       "\n",
       "    .dataframe tbody tr th {\n",
       "        vertical-align: top;\n",
       "    }\n",
       "\n",
       "    .dataframe thead th {\n",
       "        text-align: right;\n",
       "    }\n",
       "</style>\n",
       "<table border=\"1\" class=\"dataframe\">\n",
       "  <thead>\n",
       "    <tr style=\"text-align: right;\">\n",
       "      <th></th>\n",
       "      <th>tconst</th>\n",
       "      <th>primaryTitle</th>\n",
       "    </tr>\n",
       "  </thead>\n",
       "  <tbody>\n",
       "    <tr>\n",
       "      <th>294123</th>\n",
       "      <td>tt0307371</td>\n",
       "      <td>La regina di Sparta</td>\n",
       "    </tr>\n",
       "    <tr>\n",
       "      <th>7143209</th>\n",
       "      <td>tt4968982</td>\n",
       "      <td>Kingdom Point</td>\n",
       "    </tr>\n",
       "    <tr>\n",
       "      <th>3572055</th>\n",
       "      <td>tt14751200</td>\n",
       "      <td>Cavu</td>\n",
       "    </tr>\n",
       "    <tr>\n",
       "      <th>1063997</th>\n",
       "      <td>tt10173114</td>\n",
       "      <td>Gang Qin Meng</td>\n",
       "    </tr>\n",
       "    <tr>\n",
       "      <th>6115042</th>\n",
       "      <td>tt2600444</td>\n",
       "      <td>Krzyzacy</td>\n",
       "    </tr>\n",
       "  </tbody>\n",
       "</table>\n",
       "</div>"
      ],
      "text/plain": [
       "             tconst         primaryTitle\n",
       "294123    tt0307371  La regina di Sparta\n",
       "7143209   tt4968982        Kingdom Point\n",
       "3572055  tt14751200                 Cavu\n",
       "1063997  tt10173114        Gang Qin Meng\n",
       "6115042   tt2600444             Krzyzacy"
      ]
     },
     "execution_count": 4,
     "metadata": {},
     "output_type": "execute_result"
    }
   ],
   "source": [
    "names_movies=names_movies[['tconst','primaryTitle']]\n",
    "names_movies.sample(5)"
   ]
  },
  {
   "cell_type": "markdown",
   "id": "4071c3f2",
   "metadata": {
    "id": "9b34a6f6"
   },
   "source": [
    "Another file from IMBD contains data on the ratings and number of votes by movie"
   ]
  },
  {
   "cell_type": "code",
   "execution_count": 5,
   "id": "ca414338",
   "metadata": {
    "id": "efc2bb78"
   },
   "outputs": [],
   "source": [
    "ratings=pd.read_csv('https://datasets.imdbws.com/title.ratings.tsv.gz', compression='gzip', header=0, sep=\"\\t\")"
   ]
  },
  {
   "cell_type": "markdown",
   "id": "7458b7d7",
   "metadata": {
    "id": "ce88ba54"
   },
   "source": [
    "We can now merge to dataframes to get a table with ratings, votes and titles."
   ]
  },
  {
   "cell_type": "code",
   "execution_count": 6,
   "id": "d21c2fb5",
   "metadata": {
    "colab": {
     "base_uri": "https://localhost:8080/",
     "height": 206
    },
    "id": "0379c7e8",
    "outputId": "d1e2322d-a41d-4197-844f-a68190d52921"
   },
   "outputs": [
    {
     "data": {
      "text/html": [
       "<div>\n",
       "<style scoped>\n",
       "    .dataframe tbody tr th:only-of-type {\n",
       "        vertical-align: middle;\n",
       "    }\n",
       "\n",
       "    .dataframe tbody tr th {\n",
       "        vertical-align: top;\n",
       "    }\n",
       "\n",
       "    .dataframe thead th {\n",
       "        text-align: right;\n",
       "    }\n",
       "</style>\n",
       "<table border=\"1\" class=\"dataframe\">\n",
       "  <thead>\n",
       "    <tr style=\"text-align: right;\">\n",
       "      <th></th>\n",
       "      <th>tconst</th>\n",
       "      <th>averageRating</th>\n",
       "      <th>numVotes</th>\n",
       "      <th>primaryTitle</th>\n",
       "    </tr>\n",
       "  </thead>\n",
       "  <tbody>\n",
       "    <tr>\n",
       "      <th>265568</th>\n",
       "      <td>tt7109902</td>\n",
       "      <td>6.7</td>\n",
       "      <td>124</td>\n",
       "      <td>Tarzan's Testicles</td>\n",
       "    </tr>\n",
       "    <tr>\n",
       "      <th>234101</th>\n",
       "      <td>tt3886228</td>\n",
       "      <td>5.5</td>\n",
       "      <td>19</td>\n",
       "      <td>All About Eva</td>\n",
       "    </tr>\n",
       "    <tr>\n",
       "      <th>89543</th>\n",
       "      <td>tt0208176</td>\n",
       "      <td>6.8</td>\n",
       "      <td>294</td>\n",
       "      <td>Fallen Angels Paradise</td>\n",
       "    </tr>\n",
       "    <tr>\n",
       "      <th>260938</th>\n",
       "      <td>tt6495810</td>\n",
       "      <td>6.3</td>\n",
       "      <td>19</td>\n",
       "      <td>Bruce!!!!</td>\n",
       "    </tr>\n",
       "    <tr>\n",
       "      <th>207644</th>\n",
       "      <td>tt21855724</td>\n",
       "      <td>8.2</td>\n",
       "      <td>5</td>\n",
       "      <td>Kurdbûn - Essere curdo</td>\n",
       "    </tr>\n",
       "  </tbody>\n",
       "</table>\n",
       "</div>"
      ],
      "text/plain": [
       "            tconst  averageRating  numVotes            primaryTitle\n",
       "265568   tt7109902            6.7       124      Tarzan's Testicles\n",
       "234101   tt3886228            5.5        19           All About Eva\n",
       "89543    tt0208176            6.8       294  Fallen Angels Paradise\n",
       "260938   tt6495810            6.3        19               Bruce!!!!\n",
       "207644  tt21855724            8.2         5  Kurdbûn - Essere curdo"
      ]
     },
     "execution_count": 6,
     "metadata": {},
     "output_type": "execute_result"
    }
   ],
   "source": [
    "ratings_complete=ratings.merge(names_movies)\n",
    "ratings_complete.sample(5)"
   ]
  },
  {
   "cell_type": "markdown",
   "id": "c6780cb4",
   "metadata": {
    "id": "ed08cb13"
   },
   "source": [
    "As there are many films which are not rated by many people, it would be a good option to filter table by number of votes - if more than 50 thousand people voted then we take the movie for analysis."
   ]
  },
  {
   "cell_type": "code",
   "execution_count": 7,
   "id": "c3ccf933",
   "metadata": {
    "colab": {
     "base_uri": "https://localhost:8080/"
    },
    "id": "e2cc236f",
    "outputId": "e00edf02-10f6-4669-e679-3215a9981e99"
   },
   "outputs": [
    {
     "data": {
      "text/plain": [
       "(38712, 4)"
      ]
     },
     "execution_count": 7,
     "metadata": {},
     "output_type": "execute_result"
    }
   ],
   "source": [
    "ratings_popular=ratings_complete[ratings_complete['numVotes']>1000]\n",
    "ratings_popular.shape"
   ]
  },
  {
   "cell_type": "markdown",
   "id": "bfd8a59f",
   "metadata": {
    "id": "a8f7ec3e"
   },
   "source": [
    "3825 movies is a good amount for our analysis. We expect this number to reduce as we start looking for the plot description from wikipedia."
   ]
  },
  {
   "cell_type": "markdown",
   "id": "21d33e2f",
   "metadata": {
    "id": "5a873501"
   },
   "source": [
    "## Loading plots from wikipedia"
   ]
  },
  {
   "cell_type": "code",
   "execution_count": 8,
   "id": "1294e80a",
   "metadata": {
    "colab": {
     "base_uri": "https://localhost:8080/"
    },
    "id": "12N81LWrUOTo",
    "outputId": "abfd9619-131f-4532-9a23-708637e7ce45"
   },
   "outputs": [
    {
     "name": "stdout",
     "output_type": "stream",
     "text": [
      "Requirement already satisfied: wikipedia in c:\\users\\altyn\\anaconda3\\lib\\site-packages (1.4.0)\n",
      "Requirement already satisfied: requests<3.0.0,>=2.0.0 in c:\\users\\altyn\\anaconda3\\lib\\site-packages (from wikipedia) (2.24.0)\n",
      "Requirement already satisfied: beautifulsoup4 in c:\\users\\altyn\\anaconda3\\lib\\site-packages (from wikipedia) (4.9.3)\n",
      "Requirement already satisfied: chardet<4,>=3.0.2 in c:\\users\\altyn\\anaconda3\\lib\\site-packages (from requests<3.0.0,>=2.0.0->wikipedia) (3.0.4)\n",
      "Requirement already satisfied: urllib3!=1.25.0,!=1.25.1,<1.26,>=1.21.1 in c:\\users\\altyn\\anaconda3\\lib\\site-packages (from requests<3.0.0,>=2.0.0->wikipedia) (1.25.11)\n",
      "Requirement already satisfied: certifi>=2017.4.17 in c:\\users\\altyn\\anaconda3\\lib\\site-packages (from requests<3.0.0,>=2.0.0->wikipedia) (2020.6.20)\n",
      "Requirement already satisfied: idna<3,>=2.5 in c:\\users\\altyn\\anaconda3\\lib\\site-packages (from requests<3.0.0,>=2.0.0->wikipedia) (2.10)\n",
      "Requirement already satisfied: soupsieve>1.2; python_version >= \"3.0\" in c:\\users\\altyn\\anaconda3\\lib\\site-packages (from beautifulsoup4->wikipedia) (2.0.1)\n",
      "Note: you may need to restart the kernel to use updated packages.\n"
     ]
    }
   ],
   "source": [
    "pip install wikipedia"
   ]
  },
  {
   "cell_type": "code",
   "execution_count": 9,
   "id": "e454f082",
   "metadata": {
    "id": "2042a3c5"
   },
   "outputs": [],
   "source": [
    "import wikipedia"
   ]
  },
  {
   "cell_type": "markdown",
   "id": "866d4c17",
   "metadata": {
    "id": "d0c10803"
   },
   "source": [
    "We will write the function which searches the film title from wikipedia and add the plot to the dataframe if there is such article. For this purpose we are using wikipedia API."
   ]
  },
  {
   "cell_type": "code",
   "execution_count": 10,
   "id": "82f96f8c",
   "metadata": {
    "id": "5d66f3dc"
   },
   "outputs": [],
   "source": [
    "def plot_wiki(df, i):\n",
    "    try:\n",
    "        title = df.iloc[i]['primaryTitle'].replace(\" \", \"_\" )\n",
    "        wiki_page = wikipedia.page(df.iloc[i]['primaryTitle'])\n",
    "        if wiki_page.content.find('Plot ==\\n')>0:\n",
    "            start=wiki_page.content.find('Plot ==\\n')+8\n",
    "            end=wiki_page.content.find('\\n\\n\\n', start)\n",
    "            content=wiki_page.content[start:end].replace('\\n', '').replace('\\'','')\n",
    "        return df.iloc[i]['tconst'], content\n",
    "    except:\n",
    "        return df.iloc[i]['tconst'], None"
   ]
  },
  {
   "cell_type": "markdown",
   "id": "aeed6e3c",
   "metadata": {
    "id": "7790743b"
   },
   "source": [
    "We form the database with plot description. As there are many movies it takes some time to load all the data."
   ]
  },
  {
   "cell_type": "code",
   "execution_count": 58,
   "id": "1b2e7c2c",
   "metadata": {
    "colab": {
     "base_uri": "https://localhost:8080/",
     "height": 223
    },
    "id": "54c8dd8a",
    "outputId": "d29e6954-e095-4947-b041-fefef2183332"
   },
   "outputs": [
    {
     "name": "stderr",
     "output_type": "stream",
     "text": [
      "100%|██████████████████████████████████████████████████████████████████████████████████| 20/20 [00:38<00:00,  1.95s/it]\n"
     ]
    },
    {
     "data": {
      "text/html": [
       "<div>\n",
       "<style scoped>\n",
       "    .dataframe tbody tr th:only-of-type {\n",
       "        vertical-align: middle;\n",
       "    }\n",
       "\n",
       "    .dataframe tbody tr th {\n",
       "        vertical-align: top;\n",
       "    }\n",
       "\n",
       "    .dataframe thead th {\n",
       "        text-align: right;\n",
       "    }\n",
       "</style>\n",
       "<table border=\"1\" class=\"dataframe\">\n",
       "  <thead>\n",
       "    <tr style=\"text-align: right;\">\n",
       "      <th></th>\n",
       "      <th>plot</th>\n",
       "      <th>tconst</th>\n",
       "    </tr>\n",
       "  </thead>\n",
       "  <tbody>\n",
       "    <tr>\n",
       "      <th>0</th>\n",
       "      <td>None</td>\n",
       "      <td>tt0002130</td>\n",
       "    </tr>\n",
       "    <tr>\n",
       "      <th>1</th>\n",
       "      <td>None</td>\n",
       "      <td>tt0002844</td>\n",
       "    </tr>\n",
       "    <tr>\n",
       "      <th>2</th>\n",
       "      <td>None</td>\n",
       "      <td>tt0003014</td>\n",
       "    </tr>\n",
       "    <tr>\n",
       "      <th>3</th>\n",
       "      <td>None</td>\n",
       "      <td>tt0003037</td>\n",
       "    </tr>\n",
       "    <tr>\n",
       "      <th>4</th>\n",
       "      <td>=== Episode table ===</td>\n",
       "      <td>tt0003165</td>\n",
       "    </tr>\n",
       "  </tbody>\n",
       "</table>\n",
       "</div>"
      ],
      "text/plain": [
       "                    plot     tconst\n",
       "0                   None  tt0002130\n",
       "1                   None  tt0002844\n",
       "2                   None  tt0003014\n",
       "3                   None  tt0003037\n",
       "4  === Episode table ===  tt0003165"
      ]
     },
     "execution_count": 58,
     "metadata": {},
     "output_type": "execute_result"
    }
   ],
   "source": [
    "movie_plot=pd.DataFrame(columns={'tconst', 'plot'})\n",
    "for i in tqdm(range(len(ratings_popular)):\n",
    "  tconst, content = plot_wiki(ratings_popular, i)\n",
    "  movie_plot = movie_plot.append({'tconst':tconst,'plot':content}, ignore_index=True)\n",
    "movie_plot.head()\n"
   ]
  },
  {
   "cell_type": "markdown",
   "id": "800e2853",
   "metadata": {
    "id": "e56b9070"
   },
   "source": [
    "Merging the plots we find with the dataframe from IMBD"
   ]
  },
  {
   "cell_type": "code",
   "execution_count": 59,
   "id": "581f2183",
   "metadata": {
    "id": "ef4b1480"
   },
   "outputs": [
    {
     "data": {
      "text/html": [
       "<div>\n",
       "<style scoped>\n",
       "    .dataframe tbody tr th:only-of-type {\n",
       "        vertical-align: middle;\n",
       "    }\n",
       "\n",
       "    .dataframe tbody tr th {\n",
       "        vertical-align: top;\n",
       "    }\n",
       "\n",
       "    .dataframe thead th {\n",
       "        text-align: right;\n",
       "    }\n",
       "</style>\n",
       "<table border=\"1\" class=\"dataframe\">\n",
       "  <thead>\n",
       "    <tr style=\"text-align: right;\">\n",
       "      <th></th>\n",
       "      <th>tconst</th>\n",
       "      <th>averageRating</th>\n",
       "      <th>numVotes</th>\n",
       "      <th>primaryTitle</th>\n",
       "      <th>plot</th>\n",
       "    </tr>\n",
       "  </thead>\n",
       "  <tbody>\n",
       "    <tr>\n",
       "      <th>0</th>\n",
       "      <td>tt0002130</td>\n",
       "      <td>7.0</td>\n",
       "      <td>2983</td>\n",
       "      <td>Dante's Inferno</td>\n",
       "      <td>None</td>\n",
       "    </tr>\n",
       "    <tr>\n",
       "      <th>1</th>\n",
       "      <td>tt0002844</td>\n",
       "      <td>6.9</td>\n",
       "      <td>2325</td>\n",
       "      <td>Fantômas: In the Shadow of the Guillotine</td>\n",
       "      <td>None</td>\n",
       "    </tr>\n",
       "    <tr>\n",
       "      <th>2</th>\n",
       "      <td>tt0003014</td>\n",
       "      <td>7.0</td>\n",
       "      <td>1248</td>\n",
       "      <td>Ingeborg Holm</td>\n",
       "      <td>None</td>\n",
       "    </tr>\n",
       "    <tr>\n",
       "      <th>3</th>\n",
       "      <td>tt0003037</td>\n",
       "      <td>6.9</td>\n",
       "      <td>1584</td>\n",
       "      <td>Fantomas: The Man in Black</td>\n",
       "      <td>None</td>\n",
       "    </tr>\n",
       "    <tr>\n",
       "      <th>4</th>\n",
       "      <td>tt0003165</td>\n",
       "      <td>6.9</td>\n",
       "      <td>1248</td>\n",
       "      <td>Fantômas: The Dead Man Who Killed</td>\n",
       "      <td>=== Episode table ===</td>\n",
       "    </tr>\n",
       "    <tr>\n",
       "      <th>5</th>\n",
       "      <td>tt0003419</td>\n",
       "      <td>6.4</td>\n",
       "      <td>2164</td>\n",
       "      <td>The Student of Prague</td>\n",
       "      <td>None</td>\n",
       "    </tr>\n",
       "    <tr>\n",
       "      <th>6</th>\n",
       "      <td>tt0003643</td>\n",
       "      <td>6.4</td>\n",
       "      <td>1307</td>\n",
       "      <td>The Avenging Conscience: or 'Thou Shalt Not Kill'</td>\n",
       "      <td>A young man (Henry B. Walthall) interested in ...</td>\n",
       "    </tr>\n",
       "    <tr>\n",
       "      <th>7</th>\n",
       "      <td>tt0003740</td>\n",
       "      <td>7.1</td>\n",
       "      <td>3623</td>\n",
       "      <td>Cabiria</td>\n",
       "      <td>None</td>\n",
       "    </tr>\n",
       "    <tr>\n",
       "      <th>8</th>\n",
       "      <td>tt0003772</td>\n",
       "      <td>6.1</td>\n",
       "      <td>1036</td>\n",
       "      <td>Cinderella</td>\n",
       "      <td>None</td>\n",
       "    </tr>\n",
       "    <tr>\n",
       "      <th>9</th>\n",
       "      <td>tt0003930</td>\n",
       "      <td>6.8</td>\n",
       "      <td>1343</td>\n",
       "      <td>Fantomas: The Mysterious Finger Print</td>\n",
       "      <td>None</td>\n",
       "    </tr>\n",
       "  </tbody>\n",
       "</table>\n",
       "</div>"
      ],
      "text/plain": [
       "      tconst  averageRating  numVotes  \\\n",
       "0  tt0002130            7.0      2983   \n",
       "1  tt0002844            6.9      2325   \n",
       "2  tt0003014            7.0      1248   \n",
       "3  tt0003037            6.9      1584   \n",
       "4  tt0003165            6.9      1248   \n",
       "5  tt0003419            6.4      2164   \n",
       "6  tt0003643            6.4      1307   \n",
       "7  tt0003740            7.1      3623   \n",
       "8  tt0003772            6.1      1036   \n",
       "9  tt0003930            6.8      1343   \n",
       "\n",
       "                                        primaryTitle  \\\n",
       "0                                    Dante's Inferno   \n",
       "1          Fantômas: In the Shadow of the Guillotine   \n",
       "2                                      Ingeborg Holm   \n",
       "3                         Fantomas: The Man in Black   \n",
       "4                  Fantômas: The Dead Man Who Killed   \n",
       "5                              The Student of Prague   \n",
       "6  The Avenging Conscience: or 'Thou Shalt Not Kill'   \n",
       "7                                            Cabiria   \n",
       "8                                         Cinderella   \n",
       "9              Fantomas: The Mysterious Finger Print   \n",
       "\n",
       "                                                plot  \n",
       "0                                               None  \n",
       "1                                               None  \n",
       "2                                               None  \n",
       "3                                               None  \n",
       "4                              === Episode table ===  \n",
       "5                                               None  \n",
       "6  A young man (Henry B. Walthall) interested in ...  \n",
       "7                                               None  \n",
       "8                                               None  \n",
       "9                                               None  "
      ]
     },
     "execution_count": 59,
     "metadata": {},
     "output_type": "execute_result"
    }
   ],
   "source": [
    "data=ratings_complete.merge(movie_plot)\n",
    "data.head(10)"
   ]
  },
  {
   "cell_type": "markdown",
   "id": "abd93ec3",
   "metadata": {
    "id": "69b40e71"
   },
   "source": [
    "In order to run binary classification models we sort the ratings and add new column which indicates whether the rating for a movie is high or not. We decide to put high rating for ratings more or equal to 7."
   ]
  },
  {
   "cell_type": "code",
   "execution_count": 60,
   "id": "4619a950",
   "metadata": {
    "colab": {
     "base_uri": "https://localhost:8080/",
     "height": 206
    },
    "id": "a7c967af",
    "outputId": "7b126896-f0e8-4042-8043-f38b107e57e5",
    "scrolled": true
   },
   "outputs": [
    {
     "data": {
      "text/html": [
       "<div>\n",
       "<style scoped>\n",
       "    .dataframe tbody tr th:only-of-type {\n",
       "        vertical-align: middle;\n",
       "    }\n",
       "\n",
       "    .dataframe tbody tr th {\n",
       "        vertical-align: top;\n",
       "    }\n",
       "\n",
       "    .dataframe thead th {\n",
       "        text-align: right;\n",
       "    }\n",
       "</style>\n",
       "<table border=\"1\" class=\"dataframe\">\n",
       "  <thead>\n",
       "    <tr style=\"text-align: right;\">\n",
       "      <th></th>\n",
       "      <th>tconst</th>\n",
       "      <th>averageRating</th>\n",
       "      <th>numVotes</th>\n",
       "      <th>primaryTitle</th>\n",
       "      <th>plot</th>\n",
       "    </tr>\n",
       "  </thead>\n",
       "  <tbody>\n",
       "    <tr>\n",
       "      <th>6</th>\n",
       "      <td>tt0003643</td>\n",
       "      <td>6.4</td>\n",
       "      <td>1307</td>\n",
       "      <td>The Avenging Conscience: or 'Thou Shalt Not Kill'</td>\n",
       "      <td>A young man (Henry B. Walthall) interested in ...</td>\n",
       "    </tr>\n",
       "    <tr>\n",
       "      <th>15</th>\n",
       "      <td>tt0004972</td>\n",
       "      <td>6.2</td>\n",
       "      <td>24965</td>\n",
       "      <td>The Birth of a Nation</td>\n",
       "      <td>The film consists of two parts of similar leng...</td>\n",
       "    </tr>\n",
       "  </tbody>\n",
       "</table>\n",
       "</div>"
      ],
      "text/plain": [
       "       tconst  averageRating  numVotes  \\\n",
       "6   tt0003643            6.4      1307   \n",
       "15  tt0004972            6.2     24965   \n",
       "\n",
       "                                         primaryTitle  \\\n",
       "6   The Avenging Conscience: or 'Thou Shalt Not Kill'   \n",
       "15                              The Birth of a Nation   \n",
       "\n",
       "                                                 plot  \n",
       "6   A young man (Henry B. Walthall) interested in ...  \n",
       "15  The film consists of two parts of similar leng...  "
      ]
     },
     "execution_count": 60,
     "metadata": {},
     "output_type": "execute_result"
    }
   ],
   "source": [
    "indices=[True if x != None and len(x)>100  else False for x in data['plot'] ]\n",
    "data = data[indices]\n",
    "data.head()"
   ]
  },
  {
   "cell_type": "markdown",
   "id": "dcb155c5",
   "metadata": {
    "id": "dbae4d34"
   },
   "source": [
    "Let's save our scraped data to csv for further analysis."
   ]
  },
  {
   "cell_type": "code",
   "execution_count": 14,
   "id": "628f85b0",
   "metadata": {
    "id": "e77f9a43"
   },
   "outputs": [],
   "source": [
    "data.to_csv('data.csv')"
   ]
  }
 ],
 "metadata": {
  "accelerator": "GPU",
  "colab": {
   "provenance": []
  },
  "gpuClass": "standard",
  "kernelspec": {
   "display_name": "Python 3 (ipykernel)",
   "language": "python",
   "name": "python3"
  },
  "language_info": {
   "codemirror_mode": {
    "name": "ipython",
    "version": 3
   },
   "file_extension": ".py",
   "mimetype": "text/x-python",
   "name": "python",
   "nbconvert_exporter": "python",
   "pygments_lexer": "ipython3",
   "version": "3.8.5"
  }
 },
 "nbformat": 4,
 "nbformat_minor": 5
}
