{
  "cells": [
    {
      "cell_type": "markdown",
      "id": "2238d301",
      "metadata": {
        "id": "2238d301"
      },
      "source": [
        "# NLP analysis of movie plots: scraping wikipedia"
      ]
    },
    {
      "cell_type": "markdown",
      "id": "c0ee83e3",
      "metadata": {
        "id": "c0ee83e3"
      },
      "source": [
        "This is a pet project to master web scraping and natural language processing (NLP) techniques. The main research question is to find some patterns in the plot of highly rated movies."
      ]
    },
    {
      "cell_type": "code",
      "execution_count": 1,
      "id": "2b787397",
      "metadata": {
        "id": "2b787397"
      },
      "outputs": [],
      "source": [
        "import pandas as pd\n",
        "from tqdm import tqdm\n",
        "import warnings\n",
        "warnings.filterwarnings(\"ignore\")"
      ]
    },
    {
      "cell_type": "markdown",
      "id": "f7da6020",
      "metadata": {
        "id": "f7da6020"
      },
      "source": [
        "We use ratings from IMBD website. IMBD post data on movies and their ratings given by the its website users."
      ]
    },
    {
      "cell_type": "code",
      "execution_count": 2,
      "id": "a4cda81f",
      "metadata": {
        "id": "a4cda81f"
      },
      "outputs": [],
      "source": [
        "names=pd.read_csv('https://datasets.imdbws.com/title.basics.tsv.gz', compression='gzip', header=0, sep=\"\\t\")"
      ]
    },
    {
      "cell_type": "markdown",
      "id": "63bac4f1",
      "metadata": {
        "id": "63bac4f1"
      },
      "source": [
        "Then we filter only movies (removing series) in order to shrink our data and avoid complications with loading plot from wikipedia"
      ]
    },
    {
      "cell_type": "code",
      "execution_count": 3,
      "id": "7eea78c7",
      "metadata": {
        "id": "7eea78c7"
      },
      "outputs": [],
      "source": [
        "names_movies=names[names['titleType']=='movie']"
      ]
    },
    {
      "cell_type": "markdown",
      "id": "35b30993",
      "metadata": {
        "id": "35b30993"
      },
      "source": [
        "Only 2 columns are necessary - unique number of film on imbd and its title."
      ]
    },
    {
      "cell_type": "code",
      "execution_count": 4,
      "id": "48d1014e",
      "metadata": {
        "colab": {
          "base_uri": "https://localhost:8080/",
          "height": 206
        },
        "id": "48d1014e",
        "outputId": "154da0fd-c544-455e-ece2-d3cfad8750de"
      },
      "outputs": [
        {
          "output_type": "execute_result",
          "data": {
            "text/plain": [
              "             tconst         primaryTitle\n",
              "1000975  tt10059440    For The Voiceless\n",
              "108318    tt0110808  Perdiamoci di vista\n",
              "51059     tt0052008         Nochnoy gost\n",
              "78275     tt0079968            Sunnyside\n",
              "785543    tt0810934                  Lei"
            ],
            "text/html": [
              "\n",
              "  <div id=\"df-63732043-1db1-4beb-bd10-5b321079652e\">\n",
              "    <div class=\"colab-df-container\">\n",
              "      <div>\n",
              "<style scoped>\n",
              "    .dataframe tbody tr th:only-of-type {\n",
              "        vertical-align: middle;\n",
              "    }\n",
              "\n",
              "    .dataframe tbody tr th {\n",
              "        vertical-align: top;\n",
              "    }\n",
              "\n",
              "    .dataframe thead th {\n",
              "        text-align: right;\n",
              "    }\n",
              "</style>\n",
              "<table border=\"1\" class=\"dataframe\">\n",
              "  <thead>\n",
              "    <tr style=\"text-align: right;\">\n",
              "      <th></th>\n",
              "      <th>tconst</th>\n",
              "      <th>primaryTitle</th>\n",
              "    </tr>\n",
              "  </thead>\n",
              "  <tbody>\n",
              "    <tr>\n",
              "      <th>1000975</th>\n",
              "      <td>tt10059440</td>\n",
              "      <td>For The Voiceless</td>\n",
              "    </tr>\n",
              "    <tr>\n",
              "      <th>108318</th>\n",
              "      <td>tt0110808</td>\n",
              "      <td>Perdiamoci di vista</td>\n",
              "    </tr>\n",
              "    <tr>\n",
              "      <th>51059</th>\n",
              "      <td>tt0052008</td>\n",
              "      <td>Nochnoy gost</td>\n",
              "    </tr>\n",
              "    <tr>\n",
              "      <th>78275</th>\n",
              "      <td>tt0079968</td>\n",
              "      <td>Sunnyside</td>\n",
              "    </tr>\n",
              "    <tr>\n",
              "      <th>785543</th>\n",
              "      <td>tt0810934</td>\n",
              "      <td>Lei</td>\n",
              "    </tr>\n",
              "  </tbody>\n",
              "</table>\n",
              "</div>\n",
              "      <button class=\"colab-df-convert\" onclick=\"convertToInteractive('df-63732043-1db1-4beb-bd10-5b321079652e')\"\n",
              "              title=\"Convert this dataframe to an interactive table.\"\n",
              "              style=\"display:none;\">\n",
              "        \n",
              "  <svg xmlns=\"http://www.w3.org/2000/svg\" height=\"24px\"viewBox=\"0 0 24 24\"\n",
              "       width=\"24px\">\n",
              "    <path d=\"M0 0h24v24H0V0z\" fill=\"none\"/>\n",
              "    <path d=\"M18.56 5.44l.94 2.06.94-2.06 2.06-.94-2.06-.94-.94-2.06-.94 2.06-2.06.94zm-11 1L8.5 8.5l.94-2.06 2.06-.94-2.06-.94L8.5 2.5l-.94 2.06-2.06.94zm10 10l.94 2.06.94-2.06 2.06-.94-2.06-.94-.94-2.06-.94 2.06-2.06.94z\"/><path d=\"M17.41 7.96l-1.37-1.37c-.4-.4-.92-.59-1.43-.59-.52 0-1.04.2-1.43.59L10.3 9.45l-7.72 7.72c-.78.78-.78 2.05 0 2.83L4 21.41c.39.39.9.59 1.41.59.51 0 1.02-.2 1.41-.59l7.78-7.78 2.81-2.81c.8-.78.8-2.07 0-2.86zM5.41 20L4 18.59l7.72-7.72 1.47 1.35L5.41 20z\"/>\n",
              "  </svg>\n",
              "      </button>\n",
              "      \n",
              "  <style>\n",
              "    .colab-df-container {\n",
              "      display:flex;\n",
              "      flex-wrap:wrap;\n",
              "      gap: 12px;\n",
              "    }\n",
              "\n",
              "    .colab-df-convert {\n",
              "      background-color: #E8F0FE;\n",
              "      border: none;\n",
              "      border-radius: 50%;\n",
              "      cursor: pointer;\n",
              "      display: none;\n",
              "      fill: #1967D2;\n",
              "      height: 32px;\n",
              "      padding: 0 0 0 0;\n",
              "      width: 32px;\n",
              "    }\n",
              "\n",
              "    .colab-df-convert:hover {\n",
              "      background-color: #E2EBFA;\n",
              "      box-shadow: 0px 1px 2px rgba(60, 64, 67, 0.3), 0px 1px 3px 1px rgba(60, 64, 67, 0.15);\n",
              "      fill: #174EA6;\n",
              "    }\n",
              "\n",
              "    [theme=dark] .colab-df-convert {\n",
              "      background-color: #3B4455;\n",
              "      fill: #D2E3FC;\n",
              "    }\n",
              "\n",
              "    [theme=dark] .colab-df-convert:hover {\n",
              "      background-color: #434B5C;\n",
              "      box-shadow: 0px 1px 3px 1px rgba(0, 0, 0, 0.15);\n",
              "      filter: drop-shadow(0px 1px 2px rgba(0, 0, 0, 0.3));\n",
              "      fill: #FFFFFF;\n",
              "    }\n",
              "  </style>\n",
              "\n",
              "      <script>\n",
              "        const buttonEl =\n",
              "          document.querySelector('#df-63732043-1db1-4beb-bd10-5b321079652e button.colab-df-convert');\n",
              "        buttonEl.style.display =\n",
              "          google.colab.kernel.accessAllowed ? 'block' : 'none';\n",
              "\n",
              "        async function convertToInteractive(key) {\n",
              "          const element = document.querySelector('#df-63732043-1db1-4beb-bd10-5b321079652e');\n",
              "          const dataTable =\n",
              "            await google.colab.kernel.invokeFunction('convertToInteractive',\n",
              "                                                     [key], {});\n",
              "          if (!dataTable) return;\n",
              "\n",
              "          const docLinkHtml = 'Like what you see? Visit the ' +\n",
              "            '<a target=\"_blank\" href=https://colab.research.google.com/notebooks/data_table.ipynb>data table notebook</a>'\n",
              "            + ' to learn more about interactive tables.';\n",
              "          element.innerHTML = '';\n",
              "          dataTable['output_type'] = 'display_data';\n",
              "          await google.colab.output.renderOutput(dataTable, element);\n",
              "          const docLink = document.createElement('div');\n",
              "          docLink.innerHTML = docLinkHtml;\n",
              "          element.appendChild(docLink);\n",
              "        }\n",
              "      </script>\n",
              "    </div>\n",
              "  </div>\n",
              "  "
            ]
          },
          "metadata": {},
          "execution_count": 4
        }
      ],
      "source": [
        "names_movies=names_movies[['tconst','primaryTitle']]\n",
        "names_movies.sample(5)"
      ]
    },
    {
      "cell_type": "markdown",
      "id": "20735f56",
      "metadata": {
        "id": "20735f56"
      },
      "source": [
        "Another file from IMBD contains data on the ratings and number of votes by movie"
      ]
    },
    {
      "cell_type": "code",
      "execution_count": 5,
      "id": "0304e0c8",
      "metadata": {
        "id": "0304e0c8"
      },
      "outputs": [],
      "source": [
        "ratings=pd.read_csv('https://datasets.imdbws.com/title.ratings.tsv.gz', compression='gzip', header=0, sep=\"\\t\")"
      ]
    },
    {
      "cell_type": "markdown",
      "id": "3de23515",
      "metadata": {
        "id": "3de23515"
      },
      "source": [
        "We can now merge to dataframes to get a table with ratings, votes and titles."
      ]
    },
    {
      "cell_type": "code",
      "execution_count": 6,
      "id": "94b04989",
      "metadata": {
        "colab": {
          "base_uri": "https://localhost:8080/",
          "height": 206
        },
        "id": "94b04989",
        "outputId": "e7157daa-257c-46e4-ab0c-a5803cfa5f32"
      },
      "outputs": [
        {
          "output_type": "execute_result",
          "data": {
            "text/plain": [
              "           tconst  averageRating  numVotes             primaryTitle\n",
              "43695   tt0080848            7.3        50    The School We Went To\n",
              "17739   tt0042316            6.0       147            Dear Caroline\n",
              "10015   tt0030986            5.9        15          Women in Prison\n",
              "239906  tt4307132            8.5        52               G Kutta Se\n",
              "92379   tt0221335            3.6        54  The Godfather's Advisor"
            ],
            "text/html": [
              "\n",
              "  <div id=\"df-927d2000-8b65-496f-b37f-ba813fef7c10\">\n",
              "    <div class=\"colab-df-container\">\n",
              "      <div>\n",
              "<style scoped>\n",
              "    .dataframe tbody tr th:only-of-type {\n",
              "        vertical-align: middle;\n",
              "    }\n",
              "\n",
              "    .dataframe tbody tr th {\n",
              "        vertical-align: top;\n",
              "    }\n",
              "\n",
              "    .dataframe thead th {\n",
              "        text-align: right;\n",
              "    }\n",
              "</style>\n",
              "<table border=\"1\" class=\"dataframe\">\n",
              "  <thead>\n",
              "    <tr style=\"text-align: right;\">\n",
              "      <th></th>\n",
              "      <th>tconst</th>\n",
              "      <th>averageRating</th>\n",
              "      <th>numVotes</th>\n",
              "      <th>primaryTitle</th>\n",
              "    </tr>\n",
              "  </thead>\n",
              "  <tbody>\n",
              "    <tr>\n",
              "      <th>43695</th>\n",
              "      <td>tt0080848</td>\n",
              "      <td>7.3</td>\n",
              "      <td>50</td>\n",
              "      <td>The School We Went To</td>\n",
              "    </tr>\n",
              "    <tr>\n",
              "      <th>17739</th>\n",
              "      <td>tt0042316</td>\n",
              "      <td>6.0</td>\n",
              "      <td>147</td>\n",
              "      <td>Dear Caroline</td>\n",
              "    </tr>\n",
              "    <tr>\n",
              "      <th>10015</th>\n",
              "      <td>tt0030986</td>\n",
              "      <td>5.9</td>\n",
              "      <td>15</td>\n",
              "      <td>Women in Prison</td>\n",
              "    </tr>\n",
              "    <tr>\n",
              "      <th>239906</th>\n",
              "      <td>tt4307132</td>\n",
              "      <td>8.5</td>\n",
              "      <td>52</td>\n",
              "      <td>G Kutta Se</td>\n",
              "    </tr>\n",
              "    <tr>\n",
              "      <th>92379</th>\n",
              "      <td>tt0221335</td>\n",
              "      <td>3.6</td>\n",
              "      <td>54</td>\n",
              "      <td>The Godfather's Advisor</td>\n",
              "    </tr>\n",
              "  </tbody>\n",
              "</table>\n",
              "</div>\n",
              "      <button class=\"colab-df-convert\" onclick=\"convertToInteractive('df-927d2000-8b65-496f-b37f-ba813fef7c10')\"\n",
              "              title=\"Convert this dataframe to an interactive table.\"\n",
              "              style=\"display:none;\">\n",
              "        \n",
              "  <svg xmlns=\"http://www.w3.org/2000/svg\" height=\"24px\"viewBox=\"0 0 24 24\"\n",
              "       width=\"24px\">\n",
              "    <path d=\"M0 0h24v24H0V0z\" fill=\"none\"/>\n",
              "    <path d=\"M18.56 5.44l.94 2.06.94-2.06 2.06-.94-2.06-.94-.94-2.06-.94 2.06-2.06.94zm-11 1L8.5 8.5l.94-2.06 2.06-.94-2.06-.94L8.5 2.5l-.94 2.06-2.06.94zm10 10l.94 2.06.94-2.06 2.06-.94-2.06-.94-.94-2.06-.94 2.06-2.06.94z\"/><path d=\"M17.41 7.96l-1.37-1.37c-.4-.4-.92-.59-1.43-.59-.52 0-1.04.2-1.43.59L10.3 9.45l-7.72 7.72c-.78.78-.78 2.05 0 2.83L4 21.41c.39.39.9.59 1.41.59.51 0 1.02-.2 1.41-.59l7.78-7.78 2.81-2.81c.8-.78.8-2.07 0-2.86zM5.41 20L4 18.59l7.72-7.72 1.47 1.35L5.41 20z\"/>\n",
              "  </svg>\n",
              "      </button>\n",
              "      \n",
              "  <style>\n",
              "    .colab-df-container {\n",
              "      display:flex;\n",
              "      flex-wrap:wrap;\n",
              "      gap: 12px;\n",
              "    }\n",
              "\n",
              "    .colab-df-convert {\n",
              "      background-color: #E8F0FE;\n",
              "      border: none;\n",
              "      border-radius: 50%;\n",
              "      cursor: pointer;\n",
              "      display: none;\n",
              "      fill: #1967D2;\n",
              "      height: 32px;\n",
              "      padding: 0 0 0 0;\n",
              "      width: 32px;\n",
              "    }\n",
              "\n",
              "    .colab-df-convert:hover {\n",
              "      background-color: #E2EBFA;\n",
              "      box-shadow: 0px 1px 2px rgba(60, 64, 67, 0.3), 0px 1px 3px 1px rgba(60, 64, 67, 0.15);\n",
              "      fill: #174EA6;\n",
              "    }\n",
              "\n",
              "    [theme=dark] .colab-df-convert {\n",
              "      background-color: #3B4455;\n",
              "      fill: #D2E3FC;\n",
              "    }\n",
              "\n",
              "    [theme=dark] .colab-df-convert:hover {\n",
              "      background-color: #434B5C;\n",
              "      box-shadow: 0px 1px 3px 1px rgba(0, 0, 0, 0.15);\n",
              "      filter: drop-shadow(0px 1px 2px rgba(0, 0, 0, 0.3));\n",
              "      fill: #FFFFFF;\n",
              "    }\n",
              "  </style>\n",
              "\n",
              "      <script>\n",
              "        const buttonEl =\n",
              "          document.querySelector('#df-927d2000-8b65-496f-b37f-ba813fef7c10 button.colab-df-convert');\n",
              "        buttonEl.style.display =\n",
              "          google.colab.kernel.accessAllowed ? 'block' : 'none';\n",
              "\n",
              "        async function convertToInteractive(key) {\n",
              "          const element = document.querySelector('#df-927d2000-8b65-496f-b37f-ba813fef7c10');\n",
              "          const dataTable =\n",
              "            await google.colab.kernel.invokeFunction('convertToInteractive',\n",
              "                                                     [key], {});\n",
              "          if (!dataTable) return;\n",
              "\n",
              "          const docLinkHtml = 'Like what you see? Visit the ' +\n",
              "            '<a target=\"_blank\" href=https://colab.research.google.com/notebooks/data_table.ipynb>data table notebook</a>'\n",
              "            + ' to learn more about interactive tables.';\n",
              "          element.innerHTML = '';\n",
              "          dataTable['output_type'] = 'display_data';\n",
              "          await google.colab.output.renderOutput(dataTable, element);\n",
              "          const docLink = document.createElement('div');\n",
              "          docLink.innerHTML = docLinkHtml;\n",
              "          element.appendChild(docLink);\n",
              "        }\n",
              "      </script>\n",
              "    </div>\n",
              "  </div>\n",
              "  "
            ]
          },
          "metadata": {},
          "execution_count": 6
        }
      ],
      "source": [
        "ratings_complete=ratings.merge(names_movies)\n",
        "ratings_complete.sample(5)"
      ]
    },
    {
      "cell_type": "markdown",
      "id": "1b3214ae",
      "metadata": {
        "id": "1b3214ae"
      },
      "source": [
        "As there are many films which are not rated by many people, it would be a good option to filter table by number of votes - if more than 50 thousand people voted then we take the movie for analysis."
      ]
    },
    {
      "cell_type": "code",
      "execution_count": 7,
      "id": "8351880b",
      "metadata": {
        "colab": {
          "base_uri": "https://localhost:8080/"
        },
        "id": "8351880b",
        "outputId": "0cfa4df8-4087-4e8e-8b75-9979db451db6"
      },
      "outputs": [
        {
          "output_type": "execute_result",
          "data": {
            "text/plain": [
              "(15495, 4)"
            ]
          },
          "metadata": {},
          "execution_count": 7
        }
      ],
      "source": [
        "ratings_popular=ratings_complete[ratings_complete['numVotes']>5000]\n",
        "ratings_popular.shape"
      ]
    },
    {
      "cell_type": "markdown",
      "id": "8a9b5df5",
      "metadata": {
        "id": "8a9b5df5"
      },
      "source": [
        "3825 movies is a good amount for our analysis. We expect this number to reduce as we start looking for the plot description from wikipedia."
      ]
    },
    {
      "cell_type": "markdown",
      "id": "79654841",
      "metadata": {
        "id": "79654841"
      },
      "source": [
        "## Loading plots from wikipedia"
      ]
    },
    {
      "cell_type": "code",
      "execution_count": 8,
      "id": "1bdb7af1",
      "metadata": {
        "colab": {
          "base_uri": "https://localhost:8080/"
        },
        "id": "1bdb7af1",
        "outputId": "bdd1f830-91e5-4800-e73f-d5ebcd6107bd"
      },
      "outputs": [
        {
          "output_type": "stream",
          "name": "stdout",
          "text": [
            "Looking in indexes: https://pypi.org/simple, https://us-python.pkg.dev/colab-wheels/public/simple/\n",
            "Requirement already satisfied: wikipedia in /usr/local/lib/python3.8/dist-packages (1.4.0)\n",
            "Requirement already satisfied: beautifulsoup4 in /usr/local/lib/python3.8/dist-packages (from wikipedia) (4.6.3)\n",
            "Requirement already satisfied: requests<3.0.0,>=2.0.0 in /usr/local/lib/python3.8/dist-packages (from wikipedia) (2.23.0)\n",
            "Requirement already satisfied: idna<3,>=2.5 in /usr/local/lib/python3.8/dist-packages (from requests<3.0.0,>=2.0.0->wikipedia) (2.10)\n",
            "Requirement already satisfied: chardet<4,>=3.0.2 in /usr/local/lib/python3.8/dist-packages (from requests<3.0.0,>=2.0.0->wikipedia) (3.0.4)\n",
            "Requirement already satisfied: certifi>=2017.4.17 in /usr/local/lib/python3.8/dist-packages (from requests<3.0.0,>=2.0.0->wikipedia) (2022.12.7)\n",
            "Requirement already satisfied: urllib3!=1.25.0,!=1.25.1,<1.26,>=1.21.1 in /usr/local/lib/python3.8/dist-packages (from requests<3.0.0,>=2.0.0->wikipedia) (1.24.3)\n"
          ]
        }
      ],
      "source": [
        "pip install wikipedia"
      ]
    },
    {
      "cell_type": "code",
      "execution_count": 9,
      "id": "d1a9fd01",
      "metadata": {
        "id": "d1a9fd01"
      },
      "outputs": [],
      "source": [
        "import wikipedia"
      ]
    },
    {
      "cell_type": "markdown",
      "id": "f0351bfb",
      "metadata": {
        "id": "f0351bfb"
      },
      "source": [
        "We will write the function which searches the film title from wikipedia and add the plot to the dataframe if there is such article. For this purpose we are using wikipedia API."
      ]
    },
    {
      "cell_type": "code",
      "execution_count": 10,
      "id": "118332e8",
      "metadata": {
        "id": "118332e8"
      },
      "outputs": [],
      "source": [
        "def plot_wiki(df, i):\n",
        "    try:\n",
        "        title = df.iloc[i]['primaryTitle'].replace(\" \", \"_\" )\n",
        "        wiki_page = wikipedia.page(df.iloc[i]['primaryTitle'])\n",
        "        if wiki_page.content.find('Plot ==\\n')>0:\n",
        "            start=wiki_page.content.find('Plot ==\\n')+8\n",
        "            end=wiki_page.content.find('\\n\\n\\n', start)\n",
        "            content=wiki_page.content[start:end].replace('\\n', '').replace('\\'','')\n",
        "        return df.iloc[i]['tconst'], content\n",
        "    except:\n",
        "        pass"
      ]
    },
    {
      "cell_type": "markdown",
      "id": "278ac7ac",
      "metadata": {
        "id": "278ac7ac"
      },
      "source": [
        "We form the database with plot description. As there are many movies it takes some time to load all the data."
      ]
    },
    {
      "cell_type": "code",
      "execution_count": 11,
      "id": "77bf647f",
      "metadata": {
        "colab": {
          "base_uri": "https://localhost:8080/",
          "height": 223
        },
        "id": "77bf647f",
        "outputId": "aa443339-87df-44d9-e858-c2db446d0c19"
      },
      "outputs": [
        {
          "output_type": "stream",
          "name": "stderr",
          "text": [
            "100%|██████████| 15495/15495 [3:08:08<00:00,  1.37it/s]\n"
          ]
        },
        {
          "output_type": "execute_result",
          "data": {
            "text/plain": [
              "                                                plot     tconst\n",
              "0  The film consists of two parts of similar leng...  tt0004972\n",
              "1                              === Episode table ===  tt0006206\n",
              "2   Cheng Huan leaves his native China because he...  tt0009968\n",
              "3  In what appears to be a park, Francis sits on ...  tt0010323\n",
              "4  Anna (Lillian Gish) is a poor country girl who...  tt0011841"
            ],
            "text/html": [
              "\n",
              "  <div id=\"df-881b8bd6-f4a3-4058-9913-989814a8eb68\">\n",
              "    <div class=\"colab-df-container\">\n",
              "      <div>\n",
              "<style scoped>\n",
              "    .dataframe tbody tr th:only-of-type {\n",
              "        vertical-align: middle;\n",
              "    }\n",
              "\n",
              "    .dataframe tbody tr th {\n",
              "        vertical-align: top;\n",
              "    }\n",
              "\n",
              "    .dataframe thead th {\n",
              "        text-align: right;\n",
              "    }\n",
              "</style>\n",
              "<table border=\"1\" class=\"dataframe\">\n",
              "  <thead>\n",
              "    <tr style=\"text-align: right;\">\n",
              "      <th></th>\n",
              "      <th>plot</th>\n",
              "      <th>tconst</th>\n",
              "    </tr>\n",
              "  </thead>\n",
              "  <tbody>\n",
              "    <tr>\n",
              "      <th>0</th>\n",
              "      <td>The film consists of two parts of similar leng...</td>\n",
              "      <td>tt0004972</td>\n",
              "    </tr>\n",
              "    <tr>\n",
              "      <th>1</th>\n",
              "      <td>=== Episode table ===</td>\n",
              "      <td>tt0006206</td>\n",
              "    </tr>\n",
              "    <tr>\n",
              "      <th>2</th>\n",
              "      <td>Cheng Huan leaves his native China because he...</td>\n",
              "      <td>tt0009968</td>\n",
              "    </tr>\n",
              "    <tr>\n",
              "      <th>3</th>\n",
              "      <td>In what appears to be a park, Francis sits on ...</td>\n",
              "      <td>tt0010323</td>\n",
              "    </tr>\n",
              "    <tr>\n",
              "      <th>4</th>\n",
              "      <td>Anna (Lillian Gish) is a poor country girl who...</td>\n",
              "      <td>tt0011841</td>\n",
              "    </tr>\n",
              "  </tbody>\n",
              "</table>\n",
              "</div>\n",
              "      <button class=\"colab-df-convert\" onclick=\"convertToInteractive('df-881b8bd6-f4a3-4058-9913-989814a8eb68')\"\n",
              "              title=\"Convert this dataframe to an interactive table.\"\n",
              "              style=\"display:none;\">\n",
              "        \n",
              "  <svg xmlns=\"http://www.w3.org/2000/svg\" height=\"24px\"viewBox=\"0 0 24 24\"\n",
              "       width=\"24px\">\n",
              "    <path d=\"M0 0h24v24H0V0z\" fill=\"none\"/>\n",
              "    <path d=\"M18.56 5.44l.94 2.06.94-2.06 2.06-.94-2.06-.94-.94-2.06-.94 2.06-2.06.94zm-11 1L8.5 8.5l.94-2.06 2.06-.94-2.06-.94L8.5 2.5l-.94 2.06-2.06.94zm10 10l.94 2.06.94-2.06 2.06-.94-2.06-.94-.94-2.06-.94 2.06-2.06.94z\"/><path d=\"M17.41 7.96l-1.37-1.37c-.4-.4-.92-.59-1.43-.59-.52 0-1.04.2-1.43.59L10.3 9.45l-7.72 7.72c-.78.78-.78 2.05 0 2.83L4 21.41c.39.39.9.59 1.41.59.51 0 1.02-.2 1.41-.59l7.78-7.78 2.81-2.81c.8-.78.8-2.07 0-2.86zM5.41 20L4 18.59l7.72-7.72 1.47 1.35L5.41 20z\"/>\n",
              "  </svg>\n",
              "      </button>\n",
              "      \n",
              "  <style>\n",
              "    .colab-df-container {\n",
              "      display:flex;\n",
              "      flex-wrap:wrap;\n",
              "      gap: 12px;\n",
              "    }\n",
              "\n",
              "    .colab-df-convert {\n",
              "      background-color: #E8F0FE;\n",
              "      border: none;\n",
              "      border-radius: 50%;\n",
              "      cursor: pointer;\n",
              "      display: none;\n",
              "      fill: #1967D2;\n",
              "      height: 32px;\n",
              "      padding: 0 0 0 0;\n",
              "      width: 32px;\n",
              "    }\n",
              "\n",
              "    .colab-df-convert:hover {\n",
              "      background-color: #E2EBFA;\n",
              "      box-shadow: 0px 1px 2px rgba(60, 64, 67, 0.3), 0px 1px 3px 1px rgba(60, 64, 67, 0.15);\n",
              "      fill: #174EA6;\n",
              "    }\n",
              "\n",
              "    [theme=dark] .colab-df-convert {\n",
              "      background-color: #3B4455;\n",
              "      fill: #D2E3FC;\n",
              "    }\n",
              "\n",
              "    [theme=dark] .colab-df-convert:hover {\n",
              "      background-color: #434B5C;\n",
              "      box-shadow: 0px 1px 3px 1px rgba(0, 0, 0, 0.15);\n",
              "      filter: drop-shadow(0px 1px 2px rgba(0, 0, 0, 0.3));\n",
              "      fill: #FFFFFF;\n",
              "    }\n",
              "  </style>\n",
              "\n",
              "      <script>\n",
              "        const buttonEl =\n",
              "          document.querySelector('#df-881b8bd6-f4a3-4058-9913-989814a8eb68 button.colab-df-convert');\n",
              "        buttonEl.style.display =\n",
              "          google.colab.kernel.accessAllowed ? 'block' : 'none';\n",
              "\n",
              "        async function convertToInteractive(key) {\n",
              "          const element = document.querySelector('#df-881b8bd6-f4a3-4058-9913-989814a8eb68');\n",
              "          const dataTable =\n",
              "            await google.colab.kernel.invokeFunction('convertToInteractive',\n",
              "                                                     [key], {});\n",
              "          if (!dataTable) return;\n",
              "\n",
              "          const docLinkHtml = 'Like what you see? Visit the ' +\n",
              "            '<a target=\"_blank\" href=https://colab.research.google.com/notebooks/data_table.ipynb>data table notebook</a>'\n",
              "            + ' to learn more about interactive tables.';\n",
              "          element.innerHTML = '';\n",
              "          dataTable['output_type'] = 'display_data';\n",
              "          await google.colab.output.renderOutput(dataTable, element);\n",
              "          const docLink = document.createElement('div');\n",
              "          docLink.innerHTML = docLinkHtml;\n",
              "          element.appendChild(docLink);\n",
              "        }\n",
              "      </script>\n",
              "    </div>\n",
              "  </div>\n",
              "  "
            ]
          },
          "metadata": {},
          "execution_count": 11
        }
      ],
      "source": [
        "movie_plot=pd.DataFrame(columns={'tconst', 'plot'})\n",
        "for i in tqdm(range(len(ratings_popular))):\n",
        "    try:\n",
        "      tconst, content = plot_wiki(ratings_popular, i)\n",
        "      movie_plot = movie_plot.append({'tconst':tconst,'plot':content}, ignore_index=True)\n",
        "    except:\n",
        "      continue\n",
        "\n",
        "movie_plot.head()\n"
      ]
    },
    {
      "cell_type": "markdown",
      "id": "9eb04f13",
      "metadata": {
        "id": "9eb04f13"
      },
      "source": [
        "Merging the plots we find with the dataframe from IMBD"
      ]
    },
    {
      "cell_type": "code",
      "execution_count": 12,
      "id": "224d8c79",
      "metadata": {
        "id": "224d8c79",
        "colab": {
          "base_uri": "https://localhost:8080/",
          "height": 363
        },
        "outputId": "c48f5ed3-6158-495b-a767-6aafb25c1d4b"
      },
      "outputs": [
        {
          "output_type": "execute_result",
          "data": {
            "text/plain": [
              "      tconst  averageRating  numVotes                 primaryTitle  \\\n",
              "0  tt0004972            6.2     25041        The Birth of a Nation   \n",
              "1  tt0006206            7.3      5003                 Les vampires   \n",
              "2  tt0009968            7.3     10491              Broken Blossoms   \n",
              "3  tt0010323            8.0     64866  The Cabinet of Dr. Caligari   \n",
              "4  tt0011841            7.4      5598                Way Down East   \n",
              "5  tt0012364            8.0     12858         The Phantom Carriage   \n",
              "6  tt0012532            7.3      5223         Orphans of the Storm   \n",
              "7  tt0013086            7.8      8583      Dr. Mabuse, the Gambler   \n",
              "8  tt0013427            7.6     12575          Nanook of the North   \n",
              "9  tt0013442            7.9     98694                    Nosferatu   \n",
              "\n",
              "                                                plot  \n",
              "0  The film consists of two parts of similar leng...  \n",
              "1                              === Episode table ===  \n",
              "2   Cheng Huan leaves his native China because he...  \n",
              "3  In what appears to be a park, Francis sits on ...  \n",
              "4  Anna (Lillian Gish) is a poor country girl who...  \n",
              "5  On New Years Eve, dying Salvation Army Sister ...  \n",
              "6  Just before the French Revolution, Henriette t...  \n",
              "7  === Part I ===The Great Gambler: A Picture of ...  \n",
              "8  The documentary follows the lives of an Inuk, ...  \n",
              "9  In 1838, in the fictional German town of Wisbo...  "
            ],
            "text/html": [
              "\n",
              "  <div id=\"df-774f00ab-1b0e-4daf-847f-924906f5739c\">\n",
              "    <div class=\"colab-df-container\">\n",
              "      <div>\n",
              "<style scoped>\n",
              "    .dataframe tbody tr th:only-of-type {\n",
              "        vertical-align: middle;\n",
              "    }\n",
              "\n",
              "    .dataframe tbody tr th {\n",
              "        vertical-align: top;\n",
              "    }\n",
              "\n",
              "    .dataframe thead th {\n",
              "        text-align: right;\n",
              "    }\n",
              "</style>\n",
              "<table border=\"1\" class=\"dataframe\">\n",
              "  <thead>\n",
              "    <tr style=\"text-align: right;\">\n",
              "      <th></th>\n",
              "      <th>tconst</th>\n",
              "      <th>averageRating</th>\n",
              "      <th>numVotes</th>\n",
              "      <th>primaryTitle</th>\n",
              "      <th>plot</th>\n",
              "    </tr>\n",
              "  </thead>\n",
              "  <tbody>\n",
              "    <tr>\n",
              "      <th>0</th>\n",
              "      <td>tt0004972</td>\n",
              "      <td>6.2</td>\n",
              "      <td>25041</td>\n",
              "      <td>The Birth of a Nation</td>\n",
              "      <td>The film consists of two parts of similar leng...</td>\n",
              "    </tr>\n",
              "    <tr>\n",
              "      <th>1</th>\n",
              "      <td>tt0006206</td>\n",
              "      <td>7.3</td>\n",
              "      <td>5003</td>\n",
              "      <td>Les vampires</td>\n",
              "      <td>=== Episode table ===</td>\n",
              "    </tr>\n",
              "    <tr>\n",
              "      <th>2</th>\n",
              "      <td>tt0009968</td>\n",
              "      <td>7.3</td>\n",
              "      <td>10491</td>\n",
              "      <td>Broken Blossoms</td>\n",
              "      <td>Cheng Huan leaves his native China because he...</td>\n",
              "    </tr>\n",
              "    <tr>\n",
              "      <th>3</th>\n",
              "      <td>tt0010323</td>\n",
              "      <td>8.0</td>\n",
              "      <td>64866</td>\n",
              "      <td>The Cabinet of Dr. Caligari</td>\n",
              "      <td>In what appears to be a park, Francis sits on ...</td>\n",
              "    </tr>\n",
              "    <tr>\n",
              "      <th>4</th>\n",
              "      <td>tt0011841</td>\n",
              "      <td>7.4</td>\n",
              "      <td>5598</td>\n",
              "      <td>Way Down East</td>\n",
              "      <td>Anna (Lillian Gish) is a poor country girl who...</td>\n",
              "    </tr>\n",
              "    <tr>\n",
              "      <th>5</th>\n",
              "      <td>tt0012364</td>\n",
              "      <td>8.0</td>\n",
              "      <td>12858</td>\n",
              "      <td>The Phantom Carriage</td>\n",
              "      <td>On New Years Eve, dying Salvation Army Sister ...</td>\n",
              "    </tr>\n",
              "    <tr>\n",
              "      <th>6</th>\n",
              "      <td>tt0012532</td>\n",
              "      <td>7.3</td>\n",
              "      <td>5223</td>\n",
              "      <td>Orphans of the Storm</td>\n",
              "      <td>Just before the French Revolution, Henriette t...</td>\n",
              "    </tr>\n",
              "    <tr>\n",
              "      <th>7</th>\n",
              "      <td>tt0013086</td>\n",
              "      <td>7.8</td>\n",
              "      <td>8583</td>\n",
              "      <td>Dr. Mabuse, the Gambler</td>\n",
              "      <td>=== Part I ===The Great Gambler: A Picture of ...</td>\n",
              "    </tr>\n",
              "    <tr>\n",
              "      <th>8</th>\n",
              "      <td>tt0013427</td>\n",
              "      <td>7.6</td>\n",
              "      <td>12575</td>\n",
              "      <td>Nanook of the North</td>\n",
              "      <td>The documentary follows the lives of an Inuk, ...</td>\n",
              "    </tr>\n",
              "    <tr>\n",
              "      <th>9</th>\n",
              "      <td>tt0013442</td>\n",
              "      <td>7.9</td>\n",
              "      <td>98694</td>\n",
              "      <td>Nosferatu</td>\n",
              "      <td>In 1838, in the fictional German town of Wisbo...</td>\n",
              "    </tr>\n",
              "  </tbody>\n",
              "</table>\n",
              "</div>\n",
              "      <button class=\"colab-df-convert\" onclick=\"convertToInteractive('df-774f00ab-1b0e-4daf-847f-924906f5739c')\"\n",
              "              title=\"Convert this dataframe to an interactive table.\"\n",
              "              style=\"display:none;\">\n",
              "        \n",
              "  <svg xmlns=\"http://www.w3.org/2000/svg\" height=\"24px\"viewBox=\"0 0 24 24\"\n",
              "       width=\"24px\">\n",
              "    <path d=\"M0 0h24v24H0V0z\" fill=\"none\"/>\n",
              "    <path d=\"M18.56 5.44l.94 2.06.94-2.06 2.06-.94-2.06-.94-.94-2.06-.94 2.06-2.06.94zm-11 1L8.5 8.5l.94-2.06 2.06-.94-2.06-.94L8.5 2.5l-.94 2.06-2.06.94zm10 10l.94 2.06.94-2.06 2.06-.94-2.06-.94-.94-2.06-.94 2.06-2.06.94z\"/><path d=\"M17.41 7.96l-1.37-1.37c-.4-.4-.92-.59-1.43-.59-.52 0-1.04.2-1.43.59L10.3 9.45l-7.72 7.72c-.78.78-.78 2.05 0 2.83L4 21.41c.39.39.9.59 1.41.59.51 0 1.02-.2 1.41-.59l7.78-7.78 2.81-2.81c.8-.78.8-2.07 0-2.86zM5.41 20L4 18.59l7.72-7.72 1.47 1.35L5.41 20z\"/>\n",
              "  </svg>\n",
              "      </button>\n",
              "      \n",
              "  <style>\n",
              "    .colab-df-container {\n",
              "      display:flex;\n",
              "      flex-wrap:wrap;\n",
              "      gap: 12px;\n",
              "    }\n",
              "\n",
              "    .colab-df-convert {\n",
              "      background-color: #E8F0FE;\n",
              "      border: none;\n",
              "      border-radius: 50%;\n",
              "      cursor: pointer;\n",
              "      display: none;\n",
              "      fill: #1967D2;\n",
              "      height: 32px;\n",
              "      padding: 0 0 0 0;\n",
              "      width: 32px;\n",
              "    }\n",
              "\n",
              "    .colab-df-convert:hover {\n",
              "      background-color: #E2EBFA;\n",
              "      box-shadow: 0px 1px 2px rgba(60, 64, 67, 0.3), 0px 1px 3px 1px rgba(60, 64, 67, 0.15);\n",
              "      fill: #174EA6;\n",
              "    }\n",
              "\n",
              "    [theme=dark] .colab-df-convert {\n",
              "      background-color: #3B4455;\n",
              "      fill: #D2E3FC;\n",
              "    }\n",
              "\n",
              "    [theme=dark] .colab-df-convert:hover {\n",
              "      background-color: #434B5C;\n",
              "      box-shadow: 0px 1px 3px 1px rgba(0, 0, 0, 0.15);\n",
              "      filter: drop-shadow(0px 1px 2px rgba(0, 0, 0, 0.3));\n",
              "      fill: #FFFFFF;\n",
              "    }\n",
              "  </style>\n",
              "\n",
              "      <script>\n",
              "        const buttonEl =\n",
              "          document.querySelector('#df-774f00ab-1b0e-4daf-847f-924906f5739c button.colab-df-convert');\n",
              "        buttonEl.style.display =\n",
              "          google.colab.kernel.accessAllowed ? 'block' : 'none';\n",
              "\n",
              "        async function convertToInteractive(key) {\n",
              "          const element = document.querySelector('#df-774f00ab-1b0e-4daf-847f-924906f5739c');\n",
              "          const dataTable =\n",
              "            await google.colab.kernel.invokeFunction('convertToInteractive',\n",
              "                                                     [key], {});\n",
              "          if (!dataTable) return;\n",
              "\n",
              "          const docLinkHtml = 'Like what you see? Visit the ' +\n",
              "            '<a target=\"_blank\" href=https://colab.research.google.com/notebooks/data_table.ipynb>data table notebook</a>'\n",
              "            + ' to learn more about interactive tables.';\n",
              "          element.innerHTML = '';\n",
              "          dataTable['output_type'] = 'display_data';\n",
              "          await google.colab.output.renderOutput(dataTable, element);\n",
              "          const docLink = document.createElement('div');\n",
              "          docLink.innerHTML = docLinkHtml;\n",
              "          element.appendChild(docLink);\n",
              "        }\n",
              "      </script>\n",
              "    </div>\n",
              "  </div>\n",
              "  "
            ]
          },
          "metadata": {},
          "execution_count": 12
        }
      ],
      "source": [
        "data=ratings_complete.merge(movie_plot)\n",
        "data.head(10)"
      ]
    },
    {
      "cell_type": "markdown",
      "id": "82a288e2",
      "metadata": {
        "id": "82a288e2"
      },
      "source": [
        "In order to run binary classification models we sort the ratings and add new column which indicates whether the rating for a movie is high or not. We decide to put high rating for ratings more or equal to 7."
      ]
    },
    {
      "cell_type": "code",
      "execution_count": 13,
      "id": "9a46be48",
      "metadata": {
        "id": "9a46be48",
        "scrolled": true,
        "colab": {
          "base_uri": "https://localhost:8080/",
          "height": 206
        },
        "outputId": "4d4d5993-e5ff-4613-9902-3cf2cf542b5d"
      },
      "outputs": [
        {
          "output_type": "execute_result",
          "data": {
            "text/plain": [
              "      tconst  averageRating  numVotes                 primaryTitle  \\\n",
              "0  tt0004972            6.2     25041        The Birth of a Nation   \n",
              "2  tt0009968            7.3     10491              Broken Blossoms   \n",
              "3  tt0010323            8.0     64866  The Cabinet of Dr. Caligari   \n",
              "4  tt0011841            7.4      5598                Way Down East   \n",
              "5  tt0012364            8.0     12858         The Phantom Carriage   \n",
              "\n",
              "                                                plot  \n",
              "0  The film consists of two parts of similar leng...  \n",
              "2   Cheng Huan leaves his native China because he...  \n",
              "3  In what appears to be a park, Francis sits on ...  \n",
              "4  Anna (Lillian Gish) is a poor country girl who...  \n",
              "5  On New Years Eve, dying Salvation Army Sister ...  "
            ],
            "text/html": [
              "\n",
              "  <div id=\"df-6e07e508-1911-408e-b463-15140b47acf9\">\n",
              "    <div class=\"colab-df-container\">\n",
              "      <div>\n",
              "<style scoped>\n",
              "    .dataframe tbody tr th:only-of-type {\n",
              "        vertical-align: middle;\n",
              "    }\n",
              "\n",
              "    .dataframe tbody tr th {\n",
              "        vertical-align: top;\n",
              "    }\n",
              "\n",
              "    .dataframe thead th {\n",
              "        text-align: right;\n",
              "    }\n",
              "</style>\n",
              "<table border=\"1\" class=\"dataframe\">\n",
              "  <thead>\n",
              "    <tr style=\"text-align: right;\">\n",
              "      <th></th>\n",
              "      <th>tconst</th>\n",
              "      <th>averageRating</th>\n",
              "      <th>numVotes</th>\n",
              "      <th>primaryTitle</th>\n",
              "      <th>plot</th>\n",
              "    </tr>\n",
              "  </thead>\n",
              "  <tbody>\n",
              "    <tr>\n",
              "      <th>0</th>\n",
              "      <td>tt0004972</td>\n",
              "      <td>6.2</td>\n",
              "      <td>25041</td>\n",
              "      <td>The Birth of a Nation</td>\n",
              "      <td>The film consists of two parts of similar leng...</td>\n",
              "    </tr>\n",
              "    <tr>\n",
              "      <th>2</th>\n",
              "      <td>tt0009968</td>\n",
              "      <td>7.3</td>\n",
              "      <td>10491</td>\n",
              "      <td>Broken Blossoms</td>\n",
              "      <td>Cheng Huan leaves his native China because he...</td>\n",
              "    </tr>\n",
              "    <tr>\n",
              "      <th>3</th>\n",
              "      <td>tt0010323</td>\n",
              "      <td>8.0</td>\n",
              "      <td>64866</td>\n",
              "      <td>The Cabinet of Dr. Caligari</td>\n",
              "      <td>In what appears to be a park, Francis sits on ...</td>\n",
              "    </tr>\n",
              "    <tr>\n",
              "      <th>4</th>\n",
              "      <td>tt0011841</td>\n",
              "      <td>7.4</td>\n",
              "      <td>5598</td>\n",
              "      <td>Way Down East</td>\n",
              "      <td>Anna (Lillian Gish) is a poor country girl who...</td>\n",
              "    </tr>\n",
              "    <tr>\n",
              "      <th>5</th>\n",
              "      <td>tt0012364</td>\n",
              "      <td>8.0</td>\n",
              "      <td>12858</td>\n",
              "      <td>The Phantom Carriage</td>\n",
              "      <td>On New Years Eve, dying Salvation Army Sister ...</td>\n",
              "    </tr>\n",
              "  </tbody>\n",
              "</table>\n",
              "</div>\n",
              "      <button class=\"colab-df-convert\" onclick=\"convertToInteractive('df-6e07e508-1911-408e-b463-15140b47acf9')\"\n",
              "              title=\"Convert this dataframe to an interactive table.\"\n",
              "              style=\"display:none;\">\n",
              "        \n",
              "  <svg xmlns=\"http://www.w3.org/2000/svg\" height=\"24px\"viewBox=\"0 0 24 24\"\n",
              "       width=\"24px\">\n",
              "    <path d=\"M0 0h24v24H0V0z\" fill=\"none\"/>\n",
              "    <path d=\"M18.56 5.44l.94 2.06.94-2.06 2.06-.94-2.06-.94-.94-2.06-.94 2.06-2.06.94zm-11 1L8.5 8.5l.94-2.06 2.06-.94-2.06-.94L8.5 2.5l-.94 2.06-2.06.94zm10 10l.94 2.06.94-2.06 2.06-.94-2.06-.94-.94-2.06-.94 2.06-2.06.94z\"/><path d=\"M17.41 7.96l-1.37-1.37c-.4-.4-.92-.59-1.43-.59-.52 0-1.04.2-1.43.59L10.3 9.45l-7.72 7.72c-.78.78-.78 2.05 0 2.83L4 21.41c.39.39.9.59 1.41.59.51 0 1.02-.2 1.41-.59l7.78-7.78 2.81-2.81c.8-.78.8-2.07 0-2.86zM5.41 20L4 18.59l7.72-7.72 1.47 1.35L5.41 20z\"/>\n",
              "  </svg>\n",
              "      </button>\n",
              "      \n",
              "  <style>\n",
              "    .colab-df-container {\n",
              "      display:flex;\n",
              "      flex-wrap:wrap;\n",
              "      gap: 12px;\n",
              "    }\n",
              "\n",
              "    .colab-df-convert {\n",
              "      background-color: #E8F0FE;\n",
              "      border: none;\n",
              "      border-radius: 50%;\n",
              "      cursor: pointer;\n",
              "      display: none;\n",
              "      fill: #1967D2;\n",
              "      height: 32px;\n",
              "      padding: 0 0 0 0;\n",
              "      width: 32px;\n",
              "    }\n",
              "\n",
              "    .colab-df-convert:hover {\n",
              "      background-color: #E2EBFA;\n",
              "      box-shadow: 0px 1px 2px rgba(60, 64, 67, 0.3), 0px 1px 3px 1px rgba(60, 64, 67, 0.15);\n",
              "      fill: #174EA6;\n",
              "    }\n",
              "\n",
              "    [theme=dark] .colab-df-convert {\n",
              "      background-color: #3B4455;\n",
              "      fill: #D2E3FC;\n",
              "    }\n",
              "\n",
              "    [theme=dark] .colab-df-convert:hover {\n",
              "      background-color: #434B5C;\n",
              "      box-shadow: 0px 1px 3px 1px rgba(0, 0, 0, 0.15);\n",
              "      filter: drop-shadow(0px 1px 2px rgba(0, 0, 0, 0.3));\n",
              "      fill: #FFFFFF;\n",
              "    }\n",
              "  </style>\n",
              "\n",
              "      <script>\n",
              "        const buttonEl =\n",
              "          document.querySelector('#df-6e07e508-1911-408e-b463-15140b47acf9 button.colab-df-convert');\n",
              "        buttonEl.style.display =\n",
              "          google.colab.kernel.accessAllowed ? 'block' : 'none';\n",
              "\n",
              "        async function convertToInteractive(key) {\n",
              "          const element = document.querySelector('#df-6e07e508-1911-408e-b463-15140b47acf9');\n",
              "          const dataTable =\n",
              "            await google.colab.kernel.invokeFunction('convertToInteractive',\n",
              "                                                     [key], {});\n",
              "          if (!dataTable) return;\n",
              "\n",
              "          const docLinkHtml = 'Like what you see? Visit the ' +\n",
              "            '<a target=\"_blank\" href=https://colab.research.google.com/notebooks/data_table.ipynb>data table notebook</a>'\n",
              "            + ' to learn more about interactive tables.';\n",
              "          element.innerHTML = '';\n",
              "          dataTable['output_type'] = 'display_data';\n",
              "          await google.colab.output.renderOutput(dataTable, element);\n",
              "          const docLink = document.createElement('div');\n",
              "          docLink.innerHTML = docLinkHtml;\n",
              "          element.appendChild(docLink);\n",
              "        }\n",
              "      </script>\n",
              "    </div>\n",
              "  </div>\n",
              "  "
            ]
          },
          "metadata": {},
          "execution_count": 13
        }
      ],
      "source": [
        "indices=[True if x != None and len(x)>100  else False for x in data['plot'] ]\n",
        "data = data[indices]\n",
        "data.head()"
      ]
    },
    {
      "cell_type": "markdown",
      "id": "90ed97ee",
      "metadata": {
        "id": "90ed97ee"
      },
      "source": [
        "Let's save our scraped data to csv for further analysis."
      ]
    },
    {
      "cell_type": "code",
      "execution_count": 15,
      "id": "ad8a6daa",
      "metadata": {
        "id": "ad8a6daa"
      },
      "outputs": [],
      "source": [
        "data.to_csv('data.csv')"
      ]
    }
  ],
  "metadata": {
    "colab": {
      "provenance": []
    },
    "gpuClass": "standard",
    "kernelspec": {
      "display_name": "Python 3 (ipykernel)",
      "language": "python",
      "name": "python3"
    },
    "language_info": {
      "codemirror_mode": {
        "name": "ipython",
        "version": 3
      },
      "file_extension": ".py",
      "mimetype": "text/x-python",
      "name": "python",
      "nbconvert_exporter": "python",
      "pygments_lexer": "ipython3",
      "version": "3.8.5"
    }
  },
  "nbformat": 4,
  "nbformat_minor": 5
}